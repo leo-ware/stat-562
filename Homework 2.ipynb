{
 "cells": [
  {
   "cell_type": "markdown",
   "metadata": {},
   "source": [
    "# Section 7.3"
   ]
  },
  {
   "cell_type": "markdown",
   "metadata": {},
   "source": [
    "**3. Suppose that the proportion θ of defective items in a large shipment is unknown and that the prior distribution of θ is the beta distribution with parameters 2 and 200. If 100 items are selected at random from the shipment and if three of these items are found to be defective, what is the posterior distribution of θ?**"
   ]
  },
  {
   "cell_type": "markdown",
   "metadata": {},
   "source": [
    "To get the posterior $\\alpha$ and $\\beta$, we just add the number of number of observed \"successes\" and \"failures\" to the prior $\\alpha$ and $\\beta$. So, the posterior distribution of $\\theta$ is given by,\n",
    "\n",
    "$$\n",
    "\\theta_{\\text{posterior}} \\sim \\text{Beta}(\\alpha = 2 + 3, \\beta = 200 + 97) = \\text{Beta}(\\alpha = 5, \\beta = 297)\n",
    "$$"
   ]
  },
  {
   "cell_type": "markdown",
   "metadata": {},
   "source": [
    "**5. Suppose that the number of defects in a 1200-foot roll of magnetic recording tape has a Poisson distribution for which the value of the mean θ is unknown and that the prior distribution of θ is the gamma distribution with parameters α = 3 and β= 1. When five rolls of this tape are selected at random and inspected, the numbers of defects found on the rolls are 2, 2, 6, 0, and 3. Determine the posterior distribution of θ.**"
   ]
  },
  {
   "cell_type": "markdown",
   "metadata": {},
   "source": [
    "The update looks like,\n",
    "\n",
    "$$\n",
    "\\alpha := \\alpha + \\sum_{i = 1}^n x_i\n",
    "$$\n",
    "\n",
    "$$\n",
    "\\beta := \\beta + n\n",
    "$$\n",
    "\n",
    "So, the posterior distribution of $\\theta$ is given by,\n",
    "\n",
    "$$\n",
    "\\theta_{\\text{posterior}} \\sim \\text{Gamma}(\\alpha = 3 + (2 + 2 + 6 + 0 + 3), \\beta = 1 + 5)\n",
    "$$\n",
    "\n",
    "So,\n",
    "\n",
    "$$\n",
    "\\theta_{\\text{posterior}} \\sim \\text{Gamma}(\\alpha = 16, \\beta = 6)\n",
    "$$\n",
    "\n"
   ]
  },
  {
   "cell_type": "markdown",
   "metadata": {},
   "source": [
    "**7. Suppose that the heights of the individuals in a certain population have a normal distribution for which the value of the mean θ is unknown and the standard deviation is 2 inches. Suppose also that the prior distribution of θ is a normal distribution for which the mean is 68 inches and the standard deviation is 1 inch. If 10 people are selected at random from the population, and their average height is found to be 69.5 inches, what is the posterior distribution of θ?**"
   ]
  },
  {
   "cell_type": "markdown",
   "metadata": {},
   "source": [
    "We are given,\n",
    "\n",
    "$$\n",
    "\\mu_0 = 68\n",
    "$$\n",
    "\n",
    "$$\n",
    "v_0 = 1\n",
    "$$\n",
    "\n",
    "$$\n",
    "\\sigma = 2\n",
    "$$\n",
    "\n",
    "$$\n",
    "n = 10\n",
    "$$\n",
    "\n",
    "$$\n",
    "\\bar{x} = 69.5\n",
    "$$"
   ]
  },
  {
   "cell_type": "markdown",
   "metadata": {},
   "source": [
    "The update rule is,\n",
    "\n",
    "$$\n",
    "\\mu_1 = {\n",
    "    \\sigma^2 \\mu_0 + n v_0^2 \\bar{x}\n",
    "    \\over\n",
    "    \\sigma^2 + nv_0^2\n",
    "}\n",
    "$$\n",
    "\n",
    "$$\n",
    "v_1^2 = {\n",
    "    \\sigma^2v_0^2\n",
    "    \\over\n",
    "    \\sigma^2 + nv_0^2\n",
    "}\n",
    "$$"
   ]
  },
  {
   "cell_type": "markdown",
   "metadata": {},
   "source": [
    "So, we get,\n",
    "\n",
    "$$\n",
    "\\mu_1 = {\n",
    "    (4) 68 + 10 (1) 69.5\n",
    "    \\over\n",
    "    4 + 10(1)\n",
    "}\n",
    "$$\n",
    "\n",
    "$$\n",
    "\\mu_1 = {\n",
    "    272 + 695\n",
    "    \\over\n",
    "    14\n",
    "}\n",
    "$$\n",
    "\n",
    "$$\n",
    "\\mu_1 = {\n",
    "    967\n",
    "    \\over\n",
    "    14\n",
    "}\n",
    "$$\n",
    "\n",
    "$$\n",
    "\\mu_1 \\approx 69.071\n",
    "$$"
   ]
  },
  {
   "cell_type": "markdown",
   "metadata": {},
   "source": [
    "$$\n",
    "v_1^2 = {\n",
    "    4\n",
    "    \\over\n",
    "    4 + 10\n",
    "}\n",
    "$$\n",
    "\n",
    "$$\n",
    "v_1^2 = {\n",
    "    2\n",
    "    \\over\n",
    "    7\n",
    "}\n",
    "$$\n",
    "\n",
    "$$\n",
    "v_1^2 \\approx 0.286\n",
    "$$\n",
    "\n",
    "$$\n",
    "v_1 \\approx 0.535\n",
    "$$"
   ]
  },
  {
   "cell_type": "markdown",
   "metadata": {},
   "source": [
    "So,\n",
    "\n",
    "$$\n",
    "\\theta_{\\text{posterior}} = \\text{Normal}(\\mu = {967 \\over 14}, \\sigma = {\\sqrt{2}\\over \\sqrt{7}})\n",
    "$$"
   ]
  },
  {
   "cell_type": "markdown",
   "metadata": {
    "vscode": {
     "languageId": "plaintext"
    }
   },
   "source": [
    "**8. Consider again the problem described in Exercise 7.**\n",
    "\n",
    "**a. Which interval 1-inch long had the highest prior probability of containing the value of θ?**"
   ]
  },
  {
   "cell_type": "markdown",
   "metadata": {},
   "source": [
    "This will be the one inch interval around the prior mean,\n",
    "\n",
    "$$\n",
    "[\\mu_0 - 0.5, \\mu_0 + 0.5] = [67.5, 68.5]\n",
    "$$"
   ]
  },
  {
   "cell_type": "markdown",
   "metadata": {},
   "source": [
    "**b. Which interval 1-inch long has the highest posterior probability of containing the value of θ?**"
   ]
  },
  {
   "cell_type": "markdown",
   "metadata": {},
   "source": [
    "This will be the one inch interval around the posterior mean,\n",
    "\n",
    "$$\n",
    "[\\mu_1 - 0.5, \\mu_1 + 0.5] = [{967 \\over 14} - {1\\over 2}, {967 \\over 14} + {1\\over 2}]\n",
    "$$\n",
    "\n",
    "$$\n",
    "[\\mu_1 - 0.5, \\mu_1 + 0.5] \\approx [68.571, 69.571]\n",
    "$$"
   ]
  },
  {
   "cell_type": "markdown",
   "metadata": {},
   "source": [
    "**c. Find the values of the probabilities in parts (a) and (b).**"
   ]
  },
  {
   "cell_type": "markdown",
   "metadata": {},
   "source": [
    "Let $\\Phi$ be the CDF of the standard normal variable.\n",
    "\n",
    "The prior standard deviation is 1. So, the prior probability that the mean is in $[67.5, 68.5]$ is $\\Phi(0.5) - \\Phi(-0.5) \\approx 0.383$.\n",
    "\n",
    "The posterior standard deviation is $0.535$. So, the prior probability that the mean is in $[68.571, 69.571]$ is $\\Phi(0.5/0.535) - \\Phi(-0.5/0.535) \\approx 0.650$. After the update, we are more confident about the location of the mean, so there is a significantly higher probability that it is in our favorite one-inch interval."
   ]
  },
  {
   "cell_type": "markdown",
   "metadata": {},
   "source": [
    "**12. Suppose that the time in minutes required to serve a customer at a certain facility has an exponential distribution for which the value of the parameter θ is unknown and that the prior distribution of θ is a gamma distribution for which the mean is 0.2 and the standard deviation is 1. If the average time required to serve a random sample of 20 customers is observed to be 3.8 minutes, what is the posterior distribution of θ?**"
   ]
  },
  {
   "cell_type": "markdown",
   "metadata": {},
   "source": [
    "We are given,\n",
    "\n",
    "$$\n",
    "\\theta_{\\text{prior}} \\sim \\Gamma(\\alpha_0, \\beta_0)\n",
    "$$\n",
    "\n",
    "$$\n",
    "\\mu_\\theta = 0.2\n",
    "$$\n",
    "\n",
    "$$\n",
    "\\sigma_\\theta = 1\n",
    "$$\n",
    "\n",
    "From the formulas for mean and variance of the gamma distribution, we get,\n",
    "\n",
    "$$\n",
    "\\mu_\\theta = {\\alpha \\over \\beta}\n",
    "$$\n",
    "\n",
    "$$\n",
    "\\sigma_\\theta^2 = {\\alpha \\over \\beta^2}\n",
    "$$\n",
    "\n",
    "So,\n",
    "\n",
    "$$\n",
    "{\\alpha_0 \\over \\beta_0} = 0.2\n",
    "$$\n",
    "\n",
    "$$\n",
    "\\alpha_0 = 0.2\\beta_0\n",
    "$$\n",
    "\n",
    "$$\n",
    "{\\alpha_0 \\over \\beta_0^2} = (0.1)^2\n",
    "$$\n",
    "\n",
    "$$\n",
    "{0.2\\beta_0 \\over \\beta_0^2} = 0.01\n",
    "$$\n",
    "\n",
    "$$\n",
    "0.2 = 0.01\\beta_0\n",
    "$$\n",
    "\n",
    "$$\n",
    "\\beta_0 = {0.2 \\over 0.01}\n",
    "$$\n",
    "\n",
    "$$\n",
    "\\beta_0 = 20\n",
    "$$\n",
    "\n",
    "$$\n",
    "\\alpha_0 = 0.2(20)\n",
    "$$\n",
    "\n",
    "$$\n",
    "\\alpha_0 = 4\n",
    "$$"
   ]
  },
  {
   "cell_type": "markdown",
   "metadata": {},
   "source": [
    "The update is,\n",
    "\n",
    "$$\n",
    "\\alpha_1 = \\alpha_0 + n\n",
    "$$\n",
    "\n",
    "$$\n",
    "\\beta_1 = \\beta_0 + \\sum_{i = 1}^n x_i\n",
    "$$\n",
    "\n",
    "So,\n",
    "\n",
    "$$\n",
    "\\alpha_1 = 4 + 20\n",
    "$$\n",
    "\n",
    "$$\n",
    "\\alpha_1 = 24\n",
    "$$\n",
    "\n",
    "$$\n",
    "\\beta_1 = 96\n",
    "$$"
   ]
  },
  {
   "cell_type": "markdown",
   "metadata": {},
   "source": [
    "So,\n",
    "\n",
    "$$\n",
    "\\theta_{\\text{posterior}} \\sim \\text{Gamma}(\\alpha = 24, \\beta = 96)\n",
    "$$"
   ]
  },
  {
   "cell_type": "markdown",
   "metadata": {},
   "source": [
    "# Section 7.4"
   ]
  },
  {
   "cell_type": "markdown",
   "metadata": {},
   "source": [
    "**1. In a clinical trial, let the probability of successful outcome θ have a prior distribution that is the uniform distribution on the interval [0, 1], which is also the beta distribution with parameters 1 and 1. Suppose that the first patient has a successful outcome. Find the Bayes estimates of θ that would be obtained for both the squared error and absolute error loss functions.**"
   ]
  },
  {
   "cell_type": "markdown",
   "metadata": {},
   "source": [
    "By the beta/binomial conjugate prior update,\n",
    "\n",
    "$$\n",
    "\\theta_{\\text{posterior}} \\sim \\text{Beta}(\\alpha=2, \\beta=1)\n",
    "$$\n",
    "\n",
    "The bayes estimator for the squared error loss function is given by the posterior mean. We can use the formula for the mean of the beta distribution to find that this is,\n",
    "\n",
    "$$\n",
    "{\\alpha \\over \\alpha + \\beta}={2 \\over 3}\n",
    "$$\n",
    "\n",
    "The bayes estimator for the absolute error loss function is given by the posterior median. This is given by,\n",
    "\n",
    "$$\n",
    "{\\alpha - {1\\over 3} \\over \\alpha + \\beta - {2 \\over 3}} = {5/3 \\over 7/3} = {5\\over 7}\n",
    "$$"
   ]
  },
  {
   "cell_type": "markdown",
   "metadata": {},
   "source": [
    "**5. Suppose that the number of defects in a 1200-foot roll of magnetic recording tape has a Poisson distribution for which the value of the mean θ is unknown, and the prior distribution of θ is the gamma distribution with parameters α = 3 and β= 1. When five rolls of this tape are selected at random and inspected, the numbers of defects found on the rolls are 2, 2, 6, 0, and 3. If the squared error loss function is used, what is the Bayes estimate of θ? (See Exercise 5 of Sec. 7.3.)**"
   ]
  },
  {
   "cell_type": "markdown",
   "metadata": {},
   "source": [
    "In exercise 5 above, we found that:\n",
    "\n",
    "$$\n",
    "\\theta_{\\text{posterior}} \\sim \\text{Gamma}(\\alpha = 16, \\beta = 6)\n",
    "$$\n",
    "\n",
    "The bayes estimator for the squared error loss function is given by the posterior mean. We can use the formula for the mean of the beta distribution to find that this is,\n",
    "\n",
    "$$\n",
    "{\\alpha \\over \\beta}={16 \\over 6}={8 \\over 3}\n",
    "$$"
   ]
  },
  {
   "cell_type": "markdown",
   "metadata": {},
   "source": [
    "**8. Suppose that the heights of the individuals in a certain population have a normal distribution for which the value of the mean θ is unknown and the standard deviation is 2 inches. Suppose also that the prior distribution of θ is a normal distribution for which the mean is 68 inches and the standard deviation is 1 inch. Suppose finally that 10 people are selected at random from the population, and their average height is found to be 69.5 inches.**"
   ]
  },
  {
   "cell_type": "markdown",
   "metadata": {},
   "source": [
    "**a. If the squared error loss function is used, what is the Bayes estimate of θ?**"
   ]
  },
  {
   "cell_type": "markdown",
   "metadata": {},
   "source": [
    "We found earlier that,\n",
    "\n",
    "$$\n",
    "\\theta_{\\text{posterior}} = \\text{Normal}(\\mu = {967 \\over 14}, \\sigma = {\\sqrt{2}\\over \\sqrt{7}})\n",
    "$$\n",
    "\n",
    "The bayes estimator for the squared error loss function is given by the posterior mean. This is given by,\n",
    "\n",
    "$$\n",
    "{967 \\over 14} \\approx 69.071\n",
    "$$"
   ]
  },
  {
   "cell_type": "markdown",
   "metadata": {},
   "source": [
    "**b. If the absolute error loss function is used, what is the Bayes estimate of θ? (See Exercise 7 of Sec. 7.3).**"
   ]
  },
  {
   "cell_type": "markdown",
   "metadata": {},
   "source": [
    "The bayes estimator for the absolute error loss function is given by the posterior median. The normal is symmetric, so the mean is equal to the median. So, the answer is,\n",
    "\n",
    "$$\n",
    "{967 \\over 14} \\approx 69.071\n",
    "$$"
   ]
  },
  {
   "cell_type": "markdown",
   "metadata": {},
   "source": []
  }
 ],
 "metadata": {
  "kernelspec": {
   "display_name": "venv",
   "language": "python",
   "name": "python3"
  },
  "language_info": {
   "codemirror_mode": {
    "name": "ipython",
    "version": 3
   },
   "file_extension": ".py",
   "mimetype": "text/x-python",
   "name": "python",
   "nbconvert_exporter": "python",
   "pygments_lexer": "ipython3",
   "version": "3.13.1"
  }
 },
 "nbformat": 4,
 "nbformat_minor": 2
}
