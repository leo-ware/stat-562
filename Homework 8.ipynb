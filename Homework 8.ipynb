{
 "cells": [
  {
   "cell_type": "markdown",
   "metadata": {},
   "source": [
    "**1. Let X have the exponential distribution with parameter $β$. Suppose that we wish to test the hypotheses $H_0 : β ≥ 1$\n",
    "versus $H_1 : β < 1$. Consider the test procedure $δ$ that rejects\n",
    "$H_0$ if $X ≥ 1$.**"
   ]
  },
  {
   "cell_type": "markdown",
   "metadata": {},
   "source": [
    "**a. Determine the power function of the test.**\n",
    "\n",
    "The CDF of the exponential is known.\n",
    "\n",
    "$$\n",
    "P(X < a | \\beta) = 1 - \\exp(-\\beta a)\n",
    "$$\n",
    "\n",
    "So,\n",
    "\n",
    "$$\n",
    "P(X \\ge 1 | \\beta) = 1 - (1 - \\exp(-\\beta))\n",
    "$$\n",
    "\n",
    "By the definition of power function,\n",
    "\n",
    "$$\n",
    "\\pi(\\beta | \\delta) = \\exp(-\\beta)\n",
    "$$"
   ]
  },
  {
   "cell_type": "markdown",
   "metadata": {},
   "source": [
    "**b. Compute the size of the test.**"
   ]
  },
  {
   "cell_type": "markdown",
   "metadata": {},
   "source": [
    "Maximize power subject to $H_0$.\n",
    "\n",
    "\n",
    "By inspection,\n",
    "\n",
    "$$\n",
    "\\sup_{\\beta \\ge 1}(\\exp(-\\beta)) = \\exp(-1)\n",
    "$$\n",
    "\n",
    "So, the size is $\\exp(-1)$."
   ]
  },
  {
   "cell_type": "markdown",
   "metadata": {},
   "source": [
    "**2. Suppose that $X_1, . . . , X_n$ form a random sample from the uniform distribution on the interval $[0, θ]$, and that the following hypotheses are to be tested:**\n",
    "\n",
    "$$H_0 : \\theta \\ge 2$$\n",
    "\n",
    "$$H_1 : \\theta \\lt 2$$\n",
    "\n",
    "**Let $Y_n = max({X_1, . . . , X_n})$, and consider a test procedure\n",
    "such that the critical region contains all the outcomes for\n",
    "which $Y_n ≤ 1.5$.**"
   ]
  },
  {
   "cell_type": "markdown",
   "metadata": {},
   "source": [
    "**a. Determine the power function of the test.**"
   ]
  },
  {
   "cell_type": "markdown",
   "metadata": {},
   "source": [
    "Consider the fact that $Y_n \\lt a$ if and only if $X_i \\lt a$ for all $X_i$. So,\n",
    "\n",
    "$$\n",
    "P(Y \\lt a) = \\prod_{i = 1}^n P(X_i \\lt a)\n",
    "$$\n",
    "\n",
    "The cdf of $X_i$ is given by,\n",
    "\n",
    "$$\n",
    "P(X \\lt a) = \\begin{cases}\n",
    "\\alpha \\over \\theta & \\alpha \\ge \\theta \\\\\n",
    "1 & \\alpha \\lt \\theta\n",
    "\\end{cases}\n",
    "$$\n",
    "\n",
    "So, the cdf of $Y_i$ is given by,\n",
    "\n",
    "$$\n",
    "P(Y \\lt a) = \\begin{cases}\n",
    "\\left(\\alpha \\over \\theta \\right)^n & \\alpha \\ge \\theta \\\\\n",
    "1 & \\alpha \\lt \\theta\n",
    "\\end{cases}\n",
    "$$\n",
    "\n"
   ]
  },
  {
   "cell_type": "markdown",
   "metadata": {},
   "source": [
    "The power of the test is given by,\n",
    "\n",
    "$$\n",
    "\\pi(\\theta | Y) = P(Y_n \\le 1.5) = P(\\lt 1.5)\n",
    "$$\n",
    "\n",
    "$$\n",
    "\\pi(\\theta | Y) = \\begin{cases}\n",
    "\\left(3 \\over 2 \\theta \\right)^n & 3/2 \\ge \\theta \\\\\n",
    "1 & \\alpha \\lt \\theta\n",
    "\\end{cases}\n",
    "$$"
   ]
  },
  {
   "cell_type": "markdown",
   "metadata": {},
   "source": [
    "**b. Determine the size of the test.**"
   ]
  },
  {
   "cell_type": "markdown",
   "metadata": {},
   "source": [
    "Let $s$ be the size of the test. Then,\n",
    "\n",
    "$$\n",
    "s = \\sup_{\\theta \\ge 2} \\pi(\\theta | Y)\n",
    "$$\n",
    "\n",
    "By inspection,\n",
    "\n",
    "$$\n",
    "s = \\left(3 \\over 2(2) \\right)^n\n",
    "$$\n",
    "\n",
    "$$\n",
    "s = \\left(3 \\over 4 \\right)^n\n",
    "$$"
   ]
  },
  {
   "cell_type": "markdown",
   "metadata": {},
   "source": [
    "**5. Suppose that $X_1, . . . , X_n$ form a random sample from the normal distribution with unknown mean $μ$ and unknown variance $σ^2$. Classify each of the following hypotheses as either simple or composite:**\n",
    "\n",
    "**a. $H_0: μ = 0$ and $σ = 1$**"
   ]
  },
  {
   "cell_type": "markdown",
   "metadata": {},
   "source": [
    "This null completely specifies the distribution of $X_i$, so it's a simple hypothesis."
   ]
  },
  {
   "cell_type": "markdown",
   "metadata": {},
   "source": [
    "**b. $H_0: μ > 3$ and $σ < 1$**"
   ]
  },
  {
   "cell_type": "markdown",
   "metadata": {},
   "source": [
    "This does not completely specify the distribution of $X_i$, so it's a composite hypothesis."
   ]
  },
  {
   "cell_type": "markdown",
   "metadata": {},
   "source": [
    "**c. $H_0: μ = −2$ and $σ^2 < 5$**"
   ]
  },
  {
   "cell_type": "markdown",
   "metadata": {},
   "source": [
    "Here, $\\mu$ is exactly specified, but $\\sigma^2$ is not. So, it's a composite hypothesis."
   ]
  },
  {
   "cell_type": "markdown",
   "metadata": {},
   "source": [
    "**d. $H_0: μ = 0$**"
   ]
  },
  {
   "cell_type": "markdown",
   "metadata": {},
   "source": [
    "This does not fully specify the distribution of $X_i$, because $\\sigma$ is not specified, so it's a composite hypothesis."
   ]
  },
  {
   "cell_type": "markdown",
   "metadata": {},
   "source": [
    "**8. Let $X_1, . . . , X_n$ be a random sample from the normal distribution with mean $μ$ and variance $1$. Suppose that we wish to test the hypotheses $H_0 : μ ≤ \\mu_0$ versus $H_1 : μ > \\mu_0$. Consider the test that rejects $H_0$ if $Z \\ge c$, where $Z$ is defined in Eq. (9.1.10).**\n",
    "\n",
    "**Eq. 9.1.10**\n",
    "\n",
    "$$\n",
    "Z = \\frac{\\bar{X}_n - \\mu_0}{\\sigma}\\sqrt{n}\n",
    "$$\n",
    "\n",
    "**a. Show that $Pr(Z ≥ c|μ)$ is an increasing function of $μ$.**\n",
    "\n"
   ]
  },
  {
   "cell_type": "markdown",
   "metadata": {},
   "source": [
    "Let $\\text{Normal}(m, v)$ denote the normal distribution with mean $m$ and variance $v$. We have that,\n",
    "\n",
    "$$\n",
    "\\overline{X}_n \\sim \\text{Normal}(\\mu, \\frac{1}{n})\n",
    "$$\n",
    "\n",
    "Consider the distribution of $Z$. $Z$ is a linear transformation of a normal random variable, so it is also normal.\n",
    "\n",
    "$$\n",
    "E[Z] = E \\left[ \\frac{\\overline{X}_n - \\mu_0}{\\sigma}\\sqrt{n} \\right]\n",
    "$$\n",
    "\n",
    "$$\n",
    "E[Z] = {\\sigma \\over \\sqrt{n}} \\left( E(\\overline{X}_n) - E[\\mu_0] \\right)\n",
    "$$\n",
    "\n",
    "$$\n",
    "E[Z] = {\\sigma \\over \\sqrt{n}} \\left( \\mu - \\mu_0 \\right)\n",
    "$$"
   ]
  },
  {
   "cell_type": "markdown",
   "metadata": {},
   "source": [
    "$$\n",
    "var(Z) = var \\left( \\frac{\\overline{X}_n - \\mu_0}{\\sigma}\\sqrt{n} \\right)\n",
    "$$\n",
    "\n",
    "By the properties of variance,\n",
    "\n",
    "$$\n",
    "var(Z) = {\\sigma^2 \\over n}\\left( var(\\overline{X}_n) - var(\\mu_0) \\right)\n",
    "$$\n",
    "\n",
    "But, $\\mu_0$ is a constant, so\n",
    "\n",
    "$$\n",
    "var(Z) = {\\sigma^2 \\over n}var(\\overline{X}_n)\n",
    "$$\n",
    "\n",
    "$$\n",
    "var(Z) = {\\sigma^2 \\over n}{1 \\over n}\n",
    "$$\n",
    "\n",
    "$$\n",
    "var(Z) = {\\sigma^2 \\over n^2}\n",
    "$$"
   ]
  },
  {
   "cell_type": "markdown",
   "metadata": {},
   "source": [
    "So,\n",
    "\n",
    "$$\n",
    "Z \\sim \\text{Normal} \\left( {\\sigma \\over \\sqrt{n}}(\\mu - \\mu_0), {\\sigma^2 \\over n^2} \\right)\n",
    "$$"
   ]
  },
  {
   "cell_type": "markdown",
   "metadata": {},
   "source": [
    "Let $\\Phi_Z$ denote the cdf of $Z$ given $\\mu$. By inspection,\n",
    "\n",
    "$$\n",
    "{d \\over d\\mu}E[Z] \\gt 0\n",
    "$$ \n",
    "\n",
    "$$\n",
    "{d \\over d\\mu}var[Z] = 0\n",
    "$$ \n",
    "\n",
    "So, when $\\mu$ gets bigger, $Z$ \"gets bigger\" in the sense that the pdf is shifted to the right. So, for any constant $a$,\n",
    "\n",
    "$$\n",
    "{d \\over d\\mu}\\Phi_Z(a) \\lt 0\n",
    "$$\n",
    "\n",
    "So,\n",
    "\n",
    "$$\n",
    "-{d \\over d\\mu}\\Phi_Z(a) \\gt 0\n",
    "$$"
   ]
  },
  {
   "cell_type": "markdown",
   "metadata": {},
   "source": [
    "Note that,\n",
    "\n",
    "$$\n",
    "P(Z \\ge c | \\mu) = 1 - \\Phi_Z(c)\n",
    "$$\n",
    "\n",
    "Then,\n",
    "\n",
    "$$\n",
    "{d \\over d\\mu}P(Z \\ge c | \\mu) = {d \\over d\\mu}(1 - \\Phi_Z(c))\n",
    "$$\n",
    "\n",
    "$$\n",
    "{d \\over d\\mu}P(Z \\ge c | \\mu) = -{d \\over d\\mu}\\Phi_Z(c)\n",
    "$$\n",
    "\n",
    "$$\n",
    "{d \\over d\\mu}P(Z \\ge c | \\mu) \\gt 0\n",
    "$$\n",
    "\n",
    "So, $P(Z \\ge c | \\mu)$ is increasing in $\\mu$."
   ]
  },
  {
   "cell_type": "markdown",
   "metadata": {},
   "source": [
    "**b. Find $c$ to make the test have size $α_0$.**"
   ]
  },
  {
   "cell_type": "markdown",
   "metadata": {},
   "source": [
    "By part (a), for $\\mu\\le\\mu_0$ the function $P_\\mu(Z\\ge c)$ is increasing in $\\mu$.  So, the highest Type I error occurs when $\\mu=\\mu_0$. Under $\\mu=\\mu_0$,\n",
    "\n",
    "$$\n",
    "Z \\sim \\mathrm{Normal}(0,1).\n",
    "$$\n",
    "Therefore the size of the test is\n",
    "$$\n",
    "\\mathrm{size}\n",
    "=\\sup_{\\mu\\le\\mu_0}P_\\mu(Z\\ge c)\n",
    "=P_{\\mu_0}(Z\\ge c)\n",
    "=1-\\Phi(c),\n",
    "$$\n",
    "where $\\Phi$ is the standard normal CDF. Setting this equal to $\\alpha_0$ gives\n",
    "$$\n",
    "1-\\Phi(c)=\\alpha_0\n",
    "$$\n",
    "\n",
    "$$\n",
    "\\Phi(c)=1-\\alpha_0\n",
    "$$\n",
    "\n",
    "$$\n",
    "c=\\Phi^{-1}(1-\\alpha_0)=z_{1-\\alpha_0}.\n",
    "$$\n",
    "Thus choosing \n",
    "$$\n",
    "c = z_{1-\\alpha_0}\n",
    "$$\n",
    "makes the test have size exactly $\\alpha_0$.\n"
   ]
  },
  {
   "cell_type": "markdown",
   "metadata": {},
   "source": [
    "**10. In Exercise 8, assume that $Z = z$ is observed. Find a formula for the p-value.**"
   ]
  },
  {
   "cell_type": "markdown",
   "metadata": {},
   "source": [
    "By definition the p-value is the probability, under $H_0\\colon\\mu=\\mu_0$, of observing a test statistic at least as extreme as the observed value.  Since the rejection region is $Z\\ge c$, the p-value is  \n",
    "$$\n",
    "\\text{p-value}\n",
    "\\;=\\;\n",
    "P_{\\mu_0}(Z\\ge z)\n",
    "\\;=\\;\n",
    "1 - \\Phi(z),\n",
    "$$\n",
    "where $\\Phi$ is the cdf of the standard normal distribution.\n",
    "\n",
    "Under $H_0$,  \n",
    "$$\n",
    "Z \\sim \\mathrm{Normal}(0,1),\n",
    "$$\n",
    "so  \n",
    "$$\n",
    "P_{\\mu_0}(Z\\ge z)\n",
    "=\\int_z^\\infty \\frac{1}{\\sqrt{2\\pi}}e^{-t^2/2}\\,dt\n",
    "=1-\\Phi(z).\n",
    "$$\n"
   ]
  }
 ],
 "metadata": {
  "language_info": {
   "name": "python"
  }
 },
 "nbformat": 4,
 "nbformat_minor": 2
}
