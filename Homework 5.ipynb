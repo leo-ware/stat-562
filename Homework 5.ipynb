{
 "cells": [
  {
   "cell_type": "markdown",
   "metadata": {},
   "source": [
    "Ch8.1 #2,9 Ch8.2 #1,9,10 Ch8.3 #6,9"
   ]
  },
  {
   "cell_type": "markdown",
   "metadata": {},
   "source": [
    "# Chapter 8.1"
   ]
  },
  {
   "cell_type": "markdown",
   "metadata": {},
   "source": [
    "**2. Suppose that a random sample is to be taken from the normal distribution with unknown mean θ and standard deviation 2. How large a random sample must be taken in order that $E_θ(|\\overline{X}_n − θ|^2) ≤ 0.1$ for every possible value of θ?**"
   ]
  },
  {
   "cell_type": "markdown",
   "metadata": {},
   "source": [
    "The sampling distribution of the sample mean is given by,\n",
    "\n",
    "$$\n",
    "\\overline{X}_n \\sim \\text{Normal}(\\theta, {\\sigma^2 \\over n})\n",
    "$$\n",
    "\n",
    "Here, the standard deviation is known. So,\n",
    "\n",
    "$$\n",
    "\\overline{X}_n \\sim \\text{Normal}(\\theta, {4 \\over n})\n",
    "$$\n",
    "\n",
    "Let,\n",
    "\n",
    "$$\n",
    "\\epsilon = \\overline{X}_n - \\theta\n",
    "$$\n",
    "\n",
    "Then,\n",
    "\n",
    "$$\n",
    "\\epsilon \\sim \\text{Normal}(0, {4 \\over n})\n",
    "$$\n",
    "\n",
    "By the definition of variance,\n",
    "\n",
    "$$\n",
    "\\operatorname{var}(\\epsilon) = E[\\epsilon^2] - E[\\epsilon]^2\n",
    "$$\n",
    "\n",
    "The mean and variance of $\\epsilon$ are known,\n",
    "\n",
    "$$\n",
    "{4 \\over n} = E[\\epsilon^2]\n",
    "$$\n",
    "\n",
    "Suppose,\n",
    "\n",
    "$$\n",
    "E[(\\overline{X}_n - \\theta)^2] \\le 0.1\n",
    "$$\n",
    "\n",
    "Then,\n",
    "\n",
    "$$\n",
    "{4 \\over n} \\le 0.1\n",
    "$$\n",
    "\n",
    "$$\n",
    "{4 \\over 0.1} \\le n\n",
    "$$\n",
    "\n",
    "$$\n",
    "n \\ge 40\n",
    "$$"
   ]
  },
  {
   "cell_type": "markdown",
   "metadata": {},
   "source": [
    "**9. Let $X_1, . . . , X_n$ be a random sample from the exponential distribution with parameter $θ$. Find the c.d.f. for the sampling distribution of the M.L.E. of $θ$. (The M.L.E. itself was found in Exercise 7 in Sec. 7.5.)**"
   ]
  },
  {
   "cell_type": "markdown",
   "metadata": {},
   "source": [
    "We have that,\n",
    "\n",
    "$$\n",
    "X_1, \\dots, X_n \\sim \\text{Exponential}(\\theta)\n",
    "$$\n",
    "\n",
    "The MLE of $\\theta$, $\\hat{\\theta}$ is given by,\n",
    "\n",
    "$$\n",
    "\\hat{\\theta} = {n \\over \\sum_{i = 1}^n X_i} = \\overline{X}_n^{-1}\n",
    "$$"
   ]
  },
  {
   "cell_type": "markdown",
   "metadata": {},
   "source": [
    "# Chapter 8.2"
   ]
  },
  {
   "cell_type": "markdown",
   "metadata": {},
   "source": [
    "**1. Suppose that we will sample 20 chunks of cheese in Example 8.2.3. Let $T = \\sum_{i=1}^{20} (X_i− μ)^2/20$, where $X_i$ is the concentration of lactic acid in the ith chunk. Assume that $σ^2 = 0.09$. What number $c$ satisfies $Pr(T ≤ c)= 0.9$?**"
   ]
  },
  {
   "cell_type": "markdown",
   "metadata": {},
   "source": [
    "We have that,\n",
    "\n",
    "$$\n",
    "T = \\sum_{i = 1}^{20} (X_i - \\mu)^2 /20\n",
    "$$\n",
    "\n",
    "$$\n",
    "T = {\\sigma^2 \\over 20} \\sum_{i = 1}^{20} {(X_i - \\mu)^2 \\over \\sigma^2}\n",
    "$$\n",
    "\n",
    "But,\n",
    "\n",
    "$$\n",
    "{X_i - \\mu \\over \\sigma} \\sim \\text{Normal}(0, 1)\n",
    "$$\n",
    "\n",
    "So,\n",
    "\n",
    "$$\n",
    "{(X_i - \\mu)^2 \\over \\sigma^2} \\sim \\chi^2(1)\n",
    "$$\n",
    "\n",
    "So,\n",
    "\n",
    "$$\n",
    "\\sum_{i = 1}^{20} {(X_i - \\mu)^2 \\over \\sigma^2} \\sim \\chi^2(20) = \\text{Gamma}(10, 1/2)\n",
    "$$\n",
    "\n",
    "Since we know $\\sigma^2$, we can find,\n",
    "\n",
    "$$\n",
    "{\\sigma^2 \\over 20} = {0.09 \\over 20} = 0.0045\n",
    "$$\n",
    "\n",
    "So,\n",
    "\n",
    "$$\n",
    "{\\sigma^2 \\over 20} \\sum_{i = 1}^{20} {(X_i - \\mu)^2 \\over \\sigma^2} \\sim 0.0045 \\text{Gamma}(10, 1/2)\n",
    "$$\n",
    "\n",
    "$$\n",
    "{\\sigma^2 \\over 20} \\sum_{i = 1}^{20} {(X_i - \\mu)^2 \\over \\sigma^2} \\sim \\text{Gamma}(10, 1/((2)0.0045))\n",
    "$$\n",
    "\n",
    "$$\n",
    "{\\sigma^2 \\over 20} \\sum_{i = 1}^{20} {(X_i - \\mu)^2 \\over \\sigma^2} \\sim \\text{Gamma}(10, 0.009)\n",
    "$$\n",
    "\n",
    "$$\n",
    "T \\sim \\text{Gamma}(10, 0.009)\n",
    "$$\n",
    "\n",
    "We need the inverse CDF of $\\text{Gamma}(10, 0.009)$ applied to 0.9."
   ]
  },
  {
   "cell_type": "code",
   "execution_count": 10,
   "metadata": {},
   "outputs": [
    {
     "data": {
      "text/plain": [
       "np.float64(1578.4433657947573)"
      ]
     },
     "execution_count": 10,
     "metadata": {},
     "output_type": "execute_result"
    }
   ],
   "source": [
    "from scipy import stats\n",
    "\n",
    "stats.gamma(a = 10, scale = 1/0.009).ppf(0.9)"
   ]
  },
  {
   "cell_type": "markdown",
   "metadata": {},
   "source": [
    "So,\n",
    "\n",
    "$$\n",
    "c = 1578.4433657947573\n",
    "$$\n",
    "\n",
    "So that,\n",
    "\n",
    "$$\n",
    "P(T \\le C) = 0.9\n",
    "$$"
   ]
  },
  {
   "cell_type": "markdown",
   "metadata": {},
   "source": [
    "**9. Suppose that $X_1, . . . , X_n$ form a random sample from the normal distribution with mean $\\mu$ and variance $σ^2$. Find the distribution of,**\n",
    "\n",
    "$$\n",
    "{n(\\overline{X}_n - \\mu)^2 \\over \\sigma^2}\n",
    "$$"
   ]
  },
  {
   "cell_type": "markdown",
   "metadata": {},
   "source": [
    "The sample mean of a sample from the normal distribution has mean $\\mu$ and variance $\\sigma^2/n$. (I'll be parametrizing the normal with mean and variance in this problem.)\n",
    "\n",
    "$$\n",
    "\\overline{X}_n \\sim \\text{Normal}(\\mu, \\sigma^2/n)\n",
    "$$\n",
    "\n",
    "So,\n",
    "\n",
    "$$\n",
    "\\overline{X}_n - \\mu \\sim \\text{Normal}(0, \\sigma^2/n)\n",
    "$$\n",
    "\n",
    "So,\n",
    "\n",
    "$$\n",
    "{\\overline{X}_n - \\mu \\over \\sigma} \\sim \\text{Normal}(0, {1 \\over \\sigma^2}{\\sigma^2 \\over n})\n",
    "$$\n",
    "\n",
    "$$\n",
    "{\\overline{X}_n - \\mu \\over \\sigma^2} \\sim \\text{Normal}(0, {1 \\over n})\n",
    "$$\n",
    "\n",
    "So,\n",
    "\n",
    "$$\n",
    "\\sqrt{n}{\\overline{X}_n - \\mu \\over \\sigma^2} \\sim \\text{Normal}(0, n{1 \\over n})\n",
    "$$\n",
    "\n",
    "$$\n",
    "\\sqrt{n}{\\overline{X}_n - \\mu \\over \\sigma^2} \\sim \\text{Normal}(0, 1)\n",
    "$$\n",
    "\n",
    "The square of a standard normal variable is a $\\chi^2(1)$. So,\n",
    "\n",
    "$$\n",
    "\\left(\\sqrt{n}{\\overline{X}_n - \\mu \\over \\sigma^2}\\right)^2 \\sim \\chi^2(1)\n",
    "$$\n",
    "\n",
    "$$\n",
    "n{(\\overline{X}_n - \\mu)^2 \\over \\sigma^2} \\sim \\chi^2(1)\n",
    "$$"
   ]
  },
  {
   "cell_type": "markdown",
   "metadata": {},
   "source": [
    "**10. Suppose that six random variables $X_1, . . . , X_6$ form a random sample from the standard normal distribution, and let,**\n",
    "\n",
    "$$\n",
    "Y = (X_1 + X_2 + X_3)^2 + (X_4 + X_5 + X_6)^2\n",
    "$$\n",
    "\n",
    "**Determine a value of $c$ such that the random variable $cY$ will have a $χ^2$ distribution.**"
   ]
  },
  {
   "cell_type": "markdown",
   "metadata": {},
   "source": [
    "The $X_i$ are independent samples. So, when we add them together we get a normal that sums the means and variances. (I'll be parametrizing the Normal with mean and variance in this problem.)\n",
    "\n",
    "$$\n",
    "X_1 + X_2 + X_3 \\sim \\text{Normal}(0, 3)\n",
    "$$\n",
    "\n",
    "So,\n",
    "\n",
    "$$\n",
    "{1 \\over \\sqrt{3}}(X_1 + X_2 + X_3) \\sim \\text{Normal}(0, \\left({1 \\over \\sqrt{3}}\\right)^23)\n",
    "$$\n",
    "\n",
    "So,\n",
    "\n",
    "$$\n",
    "{1 \\over \\sqrt{3}}(X_1 + X_2 + X_3) \\sim \\text{Normal}(0, 1)\n",
    "$$\n",
    "\n",
    "The square of the standard normal is the $\\chi^2(1)$. So,e\n",
    "\n",
    "$$\n",
    "\\left({1 \\over \\sqrt{3}}(X_1 + X_2 + X_3)\\right)^2 \\sim \\chi^2(1)\n",
    "$$\n",
    "\n",
    "$$\n",
    "{1 \\over 3}(X_1 + X_2 + X_3)^2 \\sim \\chi^2(1)\n",
    "$$\n",
    "\n",
    "Similarly,\n",
    "\n",
    "$$\n",
    "{1 \\over 3}(X_4 + X_5 + X_6)^2 \\sim \\chi^2(1)\n",
    "$$\n",
    "\n",
    "The sum of two $\\chi^2$ variables is distributed according to a $\\chi^2$ with the sums of their degrees of freedom.\n",
    "\n",
    "$$\n",
    "{1 \\over 3}(X_1 + X_2 + X_3)^2 + {1 \\over 3}(X_4 + X_5 + X_6)^2 \\sim \\chi^2(2)\n",
    "$$\n",
    "\n",
    "$$\n",
    "{1 \\over 3}\\left( (X_1 + X_2 + X_3)^2 + (X_4 + X_5 + X_6)^2 \\right) \\sim \\chi^2(2)\n",
    "$$\n",
    "\n",
    "$$\n",
    "{1 \\over 3}Y \\sim \\chi^2(2)\n",
    "$$\n",
    "\n",
    "So, when $c = 1/3$, $cY$ is $\\chi^2$ distributed."
   ]
  },
  {
   "cell_type": "markdown",
   "metadata": {},
   "source": [
    "# Chapter 8.3"
   ]
  },
  {
   "cell_type": "markdown",
   "metadata": {},
   "source": [
    "**6. Suppose that $X_1, . . . , X_n$ form a random sample from the normal distribution with mean $μ$ and variance $σ^2$. Assuming that the sample size $n$ is 16, determine the values of the following probabilities:**\n",
    "\n",
    "**(a) $P(\\sigma^2{1 \\over 2} \\le {1 \\over n}\\sum_{i = 1}^n (X_i - \\mu)^2 \\le 2\\sigma^2)$**"
   ]
  },
  {
   "cell_type": "markdown",
   "metadata": {},
   "source": [
    "We have that,\n",
    "\n",
    "$$\n",
    "X_i \\sim \\text{Normal}(\\mu, \\sigma^2)\n",
    "$$\n",
    "\n",
    "Then,\n",
    "\n",
    "$$\n",
    "X_i - \\mu \\sim \\text{Normal}(0, \\sigma^2)\n",
    "$$\n",
    "\n",
    "$$\n",
    "{X_i - \\mu \\over \\sigma} \\sim \\text{Normal}(0, 1)\n",
    "$$\n",
    "\n",
    "$$\n",
    "\\left({X_i - \\mu \\over \\sigma}\\right)^2 \\sim \\chi^2(1)\n",
    "$$\n",
    "\n",
    "The sum of independent $\\chi^2$ variables is a $\\chi^2$ with the sum of the degrees of freedom.\n",
    "\n",
    "$$\n",
    "\\sum_{i = 1}^n \\left({X_i - \\mu \\over \\sigma}\\right)^2 \\sim \\chi^2(n)\n",
    "$$\n",
    "\n",
    "$$\n",
    "{1 \\over \\sigma^2} \\sum_{i = 1}^n \\left(X_i - \\mu\\right)^2 \\sim \\chi^2(n)\n",
    "$$\n",
    "\n",
    "Assume $n \\ne 0$,\n",
    "\n",
    "$$\n",
    "{n \\over \\sigma^2}{1 \\over n} \\sum_{i = 1}^n \\left(X_i - \\mu\\right)^2 \\sim \\chi^2(n)\n",
    "$$\n",
    "\n",
    "Let,\n",
    "\n",
    "$$\n",
    "\\hat{\\sigma}^2 = {1 \\over n} \\sum_{i = 1}^n \\left(X_i - \\mu\\right)^2\n",
    "$$\n",
    "\n",
    "Then,\n",
    "\n",
    "$$\n",
    "{n \\over \\sigma^2}\\hat{\\sigma}^2 \\sim \\chi^2(n)\n",
    "$$\n",
    "\n",
    "Since ${n \\over \\sigma^2}$, multiplication by this quantity constitutes a monotone increasing transform. So,\n",
    "\n",
    "$$\n",
    "P({\\sigma^2 \\over 2} \\le \\hat{\\sigma}^2 \\le 2\\sigma^2) =\n",
    "P({n \\over \\sigma^2}{\\sigma^2 \\over 2} \\le {n \\over \\sigma^2}\\hat{\\sigma}^2 \\le {n \\over \\sigma^2}2\\sigma^2)\n",
    "$$\n",
    "\n",
    "$$\n",
    "P({\\sigma^2 \\over 2} \\le \\hat{\\sigma}^2 \\le 2\\sigma^2) =\n",
    "P({n \\over 2} \\le {n \\over \\sigma^2}\\hat{\\sigma}^2 \\le 2n)\n",
    "$$\n",
    "\n",
    "Let $\\Phi_n$ denote the CDF of the $\\chi^2(n)$. Then,\n",
    "\n",
    "$$\n",
    "P({\\sigma^2 \\over 2} \\le \\hat{\\sigma}^2 \\le 2\\sigma^2) =\n",
    "\\Phi_n(2n) - \\Phi_n(n/2)\n",
    "$$\n",
    "\n",
    "So,\n",
    "\n",
    "$$\n",
    "P(\\sigma^2{1 \\over 2} \\le {1 \\over n}\\sum_{i = 1}^n (X_i - \\mu)^2 \\le 2\\sigma^2) =\n",
    "\\Phi_n(2n) - \\Phi_n(n/2)\n",
    "$$\n",
    "\n",
    "The $\\chi^2$ CDF has no closed form, but we can evaluate this quantity numerically when $n = 16$."
   ]
  },
  {
   "cell_type": "code",
   "execution_count": 12,
   "metadata": {},
   "outputs": [
    {
     "data": {
      "text/plain": [
       "np.float64(0.9388666032540479)"
      ]
     },
     "execution_count": 12,
     "metadata": {},
     "output_type": "execute_result"
    }
   ],
   "source": [
    "n = 16\n",
    "stats.chi2(df=n).cdf(2*n) - stats.chi2(df=n).cdf(n/2)"
   ]
  },
  {
   "cell_type": "markdown",
   "metadata": {},
   "source": [
    "So,\n",
    "\n",
    "$$\n",
    "P(\\sigma^2{1 \\over 2} \\le {1 \\over 16}\\sum_{i = 1}^{16} (X_i - \\mu)^2 \\le 2\\sigma^2) =\n",
    "0.9388666032540479\n",
    "$$"
   ]
  },
  {
   "cell_type": "markdown",
   "metadata": {},
   "source": [
    "**(b) $P(\\sigma^2{1 \\over 2} \\le {1 \\over n}\\sum_{i = 1}^n (X_i - \\overline{X}_n)^2 \\le 2\\sigma^2)$**"
   ]
  },
  {
   "cell_type": "markdown",
   "metadata": {},
   "source": [
    "$$\n",
    "\\sum_{i = 1}^n (X_i - \\overline{X}_n)^2 = \\sum_{i = 1}^n \\left( X_i^2 - 2X_i\\overline{X}_n + \\overline{X}_n^2 \\right)\n",
    "$$\n",
    "\n",
    "$$\n",
    "\\sum_{i = 1}^n (X_i - \\overline{X}_n)^2 = \\sum_{i = 1}^n X_i^2 - 2\\sum_{i = 1}^n X_i\\overline{X}_n + n  \\overline{X}_n^2\n",
    "$$\n",
    "\n",
    "$$\n",
    "\\sum_{i = 1}^n (X_i - \\overline{X}_n)^2 = n \\overline{X}_n^2 + \\sum_{i = 1}^n X_i^2 - 2\\sum_{i = 1}^n X_i {1 \\over n} \\sum_{j = 1}^n X_j\n",
    "$$\n",
    "\n",
    "Take these terms one at a time.\n",
    "\n",
    "$$\n",
    "X_i^2 \\sim \\chi^2(1)\n",
    "$$\n",
    "\n",
    "$$\n",
    "\n",
    "$$"
   ]
  },
  {
   "cell_type": "code",
   "execution_count": null,
   "metadata": {},
   "outputs": [],
   "source": []
  },
  {
   "cell_type": "code",
   "execution_count": null,
   "metadata": {},
   "outputs": [],
   "source": []
  },
  {
   "cell_type": "markdown",
   "metadata": {},
   "source": [
    "We have that,\n",
    "\n",
    "$$\n",
    "\\overline{X}_n = {1\\over n}\\sum_{j = 1}^n X_j\n",
    "$$\n",
    "\n",
    "So,\n",
    "\n",
    "$$\n",
    "X_i - \\overline{X}_n = X_i - {1\\over n}\\sum_{j = 1}^n X_j\n",
    "$$\n",
    "\n",
    "$$\n",
    "X_i - \\overline{X}_n = {n - 1 \\over n}X_i - \\sum_{j \\in \\{1...n\\}/i} {1\\over n}X_j\n",
    "$$"
   ]
  },
  {
   "cell_type": "markdown",
   "metadata": {},
   "source": [
    "This is a linear combination of independent gaussians, so its gaussian. Take the expectation.\n",
    "\n",
    "$$\n",
    "E[X_i - \\overline{X}_n] = E[{n - 1 \\over n}X_i] - {1\\over n}\\sum_{j \\in \\{1...n\\}/i} E[X_j]\n",
    "$$\n",
    "\n",
    "$$\n",
    "E[X_i - \\overline{X}_n] = {n - 1 \\over n}\\mu - {1\\over n}\\sum_{j \\in \\{1...n\\}/i}\\mu\n",
    "$$\n",
    "\n",
    "$$\n",
    "E[X_i - \\overline{X}_n] = {n - 1 \\over n}\\mu - {n - 1\\over n}\\mu\n",
    "$$\n",
    "\n",
    "$$\n",
    "E[X_i - \\overline{X}_n] = 0\n",
    "$$"
   ]
  },
  {
   "cell_type": "markdown",
   "metadata": {},
   "source": [
    "Take the variance.\n",
    "\n",
    "$$\n",
    "\\operatorname{var}[X_i - \\overline{X}_n] = \\operatorname{var}\\left[{n - 1 \\over n}X_i - {1\\over n}\\sum_{j \\in \\{1...n\\}/i} X_j\\right]\n",
    "$$\n",
    "\n",
    "$$\n",
    "\\operatorname{var}[X_i - \\overline{X}_n] = {(n - 1)^2 \\over n^2}\\operatorname{var}[X_i] + {1\\over n^2}\\sum_{j \\in \\{1...n\\}/i} \\operatorname{var}\\left[X_j\\right]\n",
    "$$\n",
    "\n",
    "$$\n",
    "\\operatorname{var}[X_i - \\overline{X}_n] = {(n - 1)^2 \\over n^2}\\sigma^2 + {1\\over n^2}\\sum_{j \\in \\{1...n\\}/i} \\sigma^2\n",
    "$$\n",
    "\n",
    "$$\n",
    "\\operatorname{var}[X_i - \\overline{X}_n] = {(n - 1)^2 \\over n^2}\\sigma^2 + {n - 1\\over n^2} \\sigma^2\n",
    "$$\n",
    "\n",
    "$$\n",
    "\\operatorname{var}[X_i - \\overline{X}_n] = {(n - 1)^2 + (n - 1) \\over n^2}\\sigma^2\n",
    "$$\n",
    "\n",
    "$$\n",
    "\\operatorname{var}[X_i - \\overline{X}_n] = {n(n - 1) \\over n^2}\\sigma^2\n",
    "$$\n",
    "\n",
    "$$\n",
    "\\operatorname{var}[X_i - \\overline{X}_n] = {n - 1 \\over n}\\sigma^2\n",
    "$$"
   ]
  },
  {
   "cell_type": "markdown",
   "metadata": {},
   "source": [
    "So,\n",
    "\n",
    "$$\n",
    "X_i - \\overline{X}_n \\sim \\text{Normal}(0, {n - 1 \\over n}\\sigma^2)\n",
    "$$"
   ]
  },
  {
   "cell_type": "markdown",
   "metadata": {},
   "source": [
    "**9. Suppose that each of two statisticians, $A$ and $B$, independently takes a random sample of 20 observations from the normal distribution with unknown mean $μ$ and known variance 4. Suppose also that statistician $A$ finds the sample variance in his random sample to be 3.8, and statistician $B$ finds the sample variance in her random sample to be 9.4. For which random sample is the sample mean likely to be closer to the unknown value of $μ$?**"
   ]
  },
  {
   "cell_type": "markdown",
   "metadata": {},
   "source": []
  }
 ],
 "metadata": {
  "kernelspec": {
   "display_name": "venv",
   "language": "python",
   "name": "python3"
  },
  "language_info": {
   "codemirror_mode": {
    "name": "ipython",
    "version": 3
   },
   "file_extension": ".py",
   "mimetype": "text/x-python",
   "name": "python",
   "nbconvert_exporter": "python",
   "pygments_lexer": "ipython3",
   "version": "3.13.1"
  }
 },
 "nbformat": 4,
 "nbformat_minor": 2
}
