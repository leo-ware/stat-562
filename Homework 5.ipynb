{
 "cells": [
  {
   "cell_type": "markdown",
   "metadata": {},
   "source": [
    "For this document, I'm adopting the convention that $\\text{Normal}(a, b)$ refers to the normal distribution with mean $a$ and variance $b$."
   ]
  },
  {
   "cell_type": "markdown",
   "metadata": {},
   "source": [
    "# Chapter 8.1"
   ]
  },
  {
   "cell_type": "markdown",
   "metadata": {},
   "source": [
    "**2. Suppose that a random sample is to be taken from the normal distribution with unknown mean θ and standard deviation 2. How large a random sample must be taken in order that $E_θ(|\\overline{X}_n − θ|^2) ≤ 0.1$ for every possible value of θ?**"
   ]
  },
  {
   "cell_type": "markdown",
   "metadata": {},
   "source": [
    "The sampling distribution of the sample mean is given by,\n",
    "\n",
    "$$\n",
    "\\overline{X}_n \\sim \\text{Normal}(\\theta, {\\sigma^2 \\over n})\n",
    "$$\n",
    "\n",
    "Here, the standard deviation is known. So,\n",
    "\n",
    "$$\n",
    "\\overline{X}_n \\sim \\text{Normal}(\\theta, {4 \\over n})\n",
    "$$\n",
    "\n",
    "Let,\n",
    "\n",
    "$$\n",
    "\\epsilon = \\overline{X}_n - \\theta\n",
    "$$\n",
    "\n",
    "Then,\n",
    "\n",
    "$$\n",
    "\\epsilon \\sim \\text{Normal}(0, {4 \\over n})\n",
    "$$\n",
    "\n",
    "By the definition of variance,\n",
    "\n",
    "$$\n",
    "\\operatorname{var}(\\epsilon) = E[\\epsilon^2] - E[\\epsilon]^2\n",
    "$$\n",
    "\n",
    "The mean and variance of $\\epsilon$ are known,\n",
    "\n",
    "$$\n",
    "{4 \\over n} = E[\\epsilon^2]\n",
    "$$\n",
    "\n",
    "Suppose,\n",
    "\n",
    "$$\n",
    "E[(\\overline{X}_n - \\theta)^2] \\le 0.1\n",
    "$$\n",
    "\n",
    "Then,\n",
    "\n",
    "$$\n",
    "{4 \\over n} \\le 0.1\n",
    "$$\n",
    "\n",
    "$$\n",
    "{4 \\over 0.1} \\le n\n",
    "$$\n",
    "\n",
    "$$\n",
    "n \\ge 40\n",
    "$$"
   ]
  },
  {
   "cell_type": "markdown",
   "metadata": {},
   "source": [
    "**9. Let $X_1, . . . , X_n$ be a random sample from the exponential distribution with parameter $θ$. Find the c.d.f. for the sampling distribution of the M.L.E. of $θ$. (The M.L.E. itself was found in Exercise 7 in Sec. 7.5.)**"
   ]
  },
  {
   "cell_type": "markdown",
   "metadata": {},
   "source": [
    "We have that,\n",
    "\n",
    "$$\n",
    "X_1, \\dots, X_n \\sim \\text{Exponential}(\\theta)\n",
    "$$\n",
    "\n",
    "The MLE of $\\theta$, $\\hat{\\theta}$ is given by,\n",
    "\n",
    "$$\n",
    "\\hat{\\theta} = {n \\over \\sum_{i = 1}^n X_i} = \\overline{X}_n^{-1}\n",
    "$$"
   ]
  },
  {
   "cell_type": "markdown",
   "metadata": {},
   "source": [
    "We are interested in the cdf of $\\hat{\\theta}$. Let use denote this quantity with $F_{\\hat{\\theta}}$. THen,\n",
    "\n",
    "$$\n",
    "F_{\\hat{\\theta}}(\\phi) = P(\\hat{\\theta} \\lt \\phi)\n",
    "$$\n",
    "\n",
    "$$\n",
    "F_{\\hat{\\theta}}(\\phi) = P\\left({n \\over \\sum_{i = 1}^n X_i} \\lt \\phi \\right)\n",
    "$$\n",
    "\n",
    "Assume $n \\gt 0$, so,\n",
    "\n",
    "$$\n",
    "F_{\\hat{\\theta}}(\\phi) = P\\left({1 \\over \\sum_{i = 1}^n X_i} \\lt {\\phi \\over n} \\right)\n",
    "$$\n",
    "\n",
    "We have that $X_i \\gt 0$, $\\phi \\gt 0$. So,\n",
    "\n",
    "$$\n",
    "F_{\\hat{\\theta}}(\\phi) = P\\left(\\sum_{i = 1}^n X_i \\gt {n \\over \\phi} \\right)\n",
    "$$\n",
    "\n",
    "$$\n",
    "F_{\\hat{\\theta}}(\\phi) = 1 - P\\left(\\sum_{i = 1}^n X_i \\le {n \\over \\phi} \\right)\n",
    "$$"
   ]
  },
  {
   "cell_type": "markdown",
   "metadata": {},
   "source": [
    "The sum of $n$ exponentially distributed exponential variables with parameter $\\theta$ has a gamma distribution with parameters $n$ and $\\theta$. So,\n",
    "\n",
    "$$\n",
    "\\sum_{i = 1}^n X_i \\sim \\text{Gamma}(n, \\theta)\n",
    "$$\n",
    "\n",
    "Let $F_\\gamma$ be the cdf of $\\text{Gamma}(n, \\theta)$. Then,\n",
    "\n",
    "$$\n",
    "F_{\\hat{\\theta}}(\\phi) = 1 - F_\\gamma \\left({n \\over \\phi} \\right)\n",
    "$$\n",
    "\n",
    "The cdf of the gamma distribution is analytically intractable. So, this is the simplified form."
   ]
  },
  {
   "cell_type": "markdown",
   "metadata": {},
   "source": [
    "# Chapter 8.2"
   ]
  },
  {
   "cell_type": "markdown",
   "metadata": {},
   "source": [
    "**1. Suppose that we will sample 20 chunks of cheese in Example 8.2.3. Let $T = \\sum_{i=1}^{20} (X_i− μ)^2/20$, where $X_i$ is the concentration of lactic acid in the ith chunk. Assume that $σ^2 = 0.09$. What number $c$ satisfies $Pr(T ≤ c)= 0.9$?**"
   ]
  },
  {
   "cell_type": "markdown",
   "metadata": {},
   "source": [
    "We have that,\n",
    "\n",
    "$$\n",
    "T = \\sum_{i = 1}^{20} (X_i - \\mu)^2 /20\n",
    "$$\n",
    "\n",
    "$$\n",
    "T = {\\sigma^2 \\over 20} \\sum_{i = 1}^{20} {(X_i - \\mu)^2 \\over \\sigma^2}\n",
    "$$\n",
    "\n",
    "But,\n",
    "\n",
    "$$\n",
    "{X_i - \\mu \\over \\sigma} \\sim \\text{Normal}(0, 1)\n",
    "$$\n",
    "\n",
    "So,\n",
    "\n",
    "$$\n",
    "{(X_i - \\mu)^2 \\over \\sigma^2} \\sim \\chi^2(1)\n",
    "$$\n",
    "\n",
    "So,\n",
    "\n",
    "$$\n",
    "\\sum_{i = 1}^{20} {(X_i - \\mu)^2 \\over \\sigma^2} \\sim \\chi^2(20) = \\text{Gamma}(10, 1/2)\n",
    "$$\n",
    "\n",
    "Since we know $\\sigma^2$, we can find,\n",
    "\n",
    "$$\n",
    "{\\sigma^2 \\over 20} = {0.09 \\over 20} = 0.0045\n",
    "$$\n",
    "\n",
    "So,\n",
    "\n",
    "$$\n",
    "{\\sigma^2 \\over 20} \\sum_{i = 1}^{20} {(X_i - \\mu)^2 \\over \\sigma^2} \\sim 0.0045 \\text{Gamma}(10, 1/2)\n",
    "$$\n",
    "\n",
    "$$\n",
    "{\\sigma^2 \\over 20} \\sum_{i = 1}^{20} {(X_i - \\mu)^2 \\over \\sigma^2} \\sim \\text{Gamma}(10, 1/((2)0.0045))\n",
    "$$\n",
    "\n",
    "$$\n",
    "{\\sigma^2 \\over 20} \\sum_{i = 1}^{20} {(X_i - \\mu)^2 \\over \\sigma^2} \\sim \\text{Gamma}(10, 0.009)\n",
    "$$\n",
    "\n",
    "$$\n",
    "T \\sim \\text{Gamma}(10, 0.009)\n",
    "$$\n",
    "\n",
    "We need the inverse CDF of $\\text{Gamma}(10, 0.009)$ applied to 0.9."
   ]
  },
  {
   "cell_type": "code",
   "execution_count": 1,
   "metadata": {},
   "outputs": [
    {
     "data": {
      "text/plain": [
       "np.float64(1578.4433657947573)"
      ]
     },
     "execution_count": 1,
     "metadata": {},
     "output_type": "execute_result"
    }
   ],
   "source": [
    "from scipy import stats\n",
    "\n",
    "stats.gamma(a = 10, scale = 1/0.009).ppf(0.9)"
   ]
  },
  {
   "cell_type": "markdown",
   "metadata": {},
   "source": [
    "So,\n",
    "\n",
    "$$\n",
    "c = 1578.4433657947573\n",
    "$$\n",
    "\n",
    "So that,\n",
    "\n",
    "$$\n",
    "P(T \\le C) = 0.9\n",
    "$$"
   ]
  },
  {
   "cell_type": "markdown",
   "metadata": {},
   "source": [
    "**9. Suppose that $X_1, . . . , X_n$ form a random sample from the normal distribution with mean $\\mu$ and variance $σ^2$. Find the distribution of,**\n",
    "\n",
    "$$\n",
    "{n(\\overline{X}_n - \\mu)^2 \\over \\sigma^2}\n",
    "$$"
   ]
  },
  {
   "cell_type": "markdown",
   "metadata": {},
   "source": [
    "The sample mean of a sample from the normal distribution has mean $\\mu$ and variance $\\sigma^2/n$.\n",
    "\n",
    "$$\n",
    "\\overline{X}_n \\sim \\text{Normal}(\\mu, \\sigma^2/n)\n",
    "$$\n",
    "\n",
    "So,\n",
    "\n",
    "$$\n",
    "\\overline{X}_n - \\mu \\sim \\text{Normal}(0, \\sigma^2/n)\n",
    "$$\n",
    "\n",
    "When you multiply a random variable by a scalar, the variance increases by the square of that scalar. For a symmetric distributions, multiplication by a scalar does not change the mean. So,\n",
    "\n",
    "$$\n",
    "{\\overline{X}_n - \\mu \\over \\sigma} \\sim \\text{Normal}(0, {1 \\over \\sigma^2}{\\sigma^2 \\over n})\n",
    "$$\n",
    "\n",
    "$$\n",
    "{\\overline{X}_n - \\mu \\over \\sigma} \\sim \\text{Normal}(0, {1 \\over n})\n",
    "$$\n",
    "\n",
    "So,\n",
    "\n",
    "$$\n",
    "\\sqrt{n}{\\overline{X}_n - \\mu \\over \\sigma} \\sim \\text{Normal}(0, n{1 \\over n})\n",
    "$$\n",
    "\n",
    "$$\n",
    "\\sqrt{n}{\\overline{X}_n - \\mu \\over \\sigma} \\sim \\text{Normal}(0, 1)\n",
    "$$\n",
    "\n",
    "The square of a standard normal variable is a $\\chi^2(1)$. So,\n",
    "\n",
    "$$\n",
    "\\left(\\sqrt{n}{\\overline{X}_n - \\mu \\over \\sigma}\\right)^2 \\sim \\chi^2(1)\n",
    "$$\n",
    "\n",
    "$$\n",
    "n{(\\overline{X}_n - \\mu)^2 \\over \\sigma^2} \\sim \\chi^2(1)\n",
    "$$"
   ]
  },
  {
   "cell_type": "markdown",
   "metadata": {},
   "source": [
    "**10. Suppose that six random variables $X_1, . . . , X_6$ form a random sample from the standard normal distribution, and let,**\n",
    "\n",
    "$$\n",
    "Y = (X_1 + X_2 + X_3)^2 + (X_4 + X_5 + X_6)^2\n",
    "$$\n",
    "\n",
    "**Determine a value of $c$ such that the random variable $cY$ will have a $χ^2$ distribution.**"
   ]
  },
  {
   "cell_type": "markdown",
   "metadata": {},
   "source": [
    "We have that,\n",
    "\n",
    "$$\n",
    "X_i \\sim \\text{Normal}(0, 1)\n",
    "$$\n",
    "\n",
    "The $X_i$ are normal, and the set of normals is closed under addition. So, the sum $X_1 + X_2 + X_3$ is normal. The expected value of the sum is the sum of the expectations. Since they are independent, the variance of the sum is the sum of the variances.\n",
    "\n",
    "$$\n",
    "X_1 + X_2 + X_3 \\sim \\text{Normal}(0 + 0 + 0, 1 + 1 + 1)\n",
    "$$\n",
    "\n",
    "So,\n",
    "\n",
    "$$\n",
    "X_1 + X_2 + X_3 \\sim \\text{Normal}(0, 3)\n",
    "$$\n",
    "\n",
    "When you multiply a random variable by a scalar, the variance is increased by a factor of the square of that scalar.\n",
    "\n",
    "$$\n",
    "{1 \\over \\sqrt{3}}(X_1 + X_2 + X_3) \\sim \\text{Normal}(0, \\left({1 \\over \\sqrt{3}}\\right)^23)\n",
    "$$\n",
    "\n",
    "So,\n",
    "\n",
    "$$\n",
    "{1 \\over \\sqrt{3}}(X_1 + X_2 + X_3) \\sim \\text{Normal}(0, 1)\n",
    "$$"
   ]
  },
  {
   "cell_type": "markdown",
   "metadata": {},
   "source": [
    "The square of the standard normal is the $\\chi^2(1)$. So,\n",
    "\n",
    "$$\n",
    "\\left({1 \\over \\sqrt{3}}(X_1 + X_2 + X_3)\\right)^2 \\sim \\chi^2(1)\n",
    "$$\n",
    "\n",
    "$$\n",
    "{1 \\over 3}(X_1 + X_2 + X_3)^2 \\sim \\chi^2(1)\n",
    "$$\n",
    "\n",
    "Similarly,\n",
    "\n",
    "$$\n",
    "{1 \\over 3}(X_4 + X_5 + X_6)^2 \\sim \\chi^2(1)\n",
    "$$\n",
    "\n",
    "The sum of two $\\chi^2$ variables is distributed according to a $\\chi^2$ with the sums of their degrees of freedom.\n",
    "\n",
    "$$\n",
    "{1 \\over 3}(X_1 + X_2 + X_3)^2 + {1 \\over 3}(X_4 + X_5 + X_6)^2 \\sim \\chi^2(2)\n",
    "$$\n",
    "\n",
    "$$\n",
    "{1 \\over 3}\\left( (X_1 + X_2 + X_3)^2 + (X_4 + X_5 + X_6)^2 \\right) \\sim \\chi^2(2)\n",
    "$$\n",
    "\n",
    "$$\n",
    "{1 \\over 3}Y \\sim \\chi^2(2)\n",
    "$$\n",
    "\n",
    "So, when $c = 1/3$, $cY$ is $\\chi^2$ distributed."
   ]
  },
  {
   "cell_type": "markdown",
   "metadata": {},
   "source": [
    "# Chapter 8.3"
   ]
  },
  {
   "cell_type": "markdown",
   "metadata": {},
   "source": [
    "**6. Suppose that $X_1, . . . , X_n$ form a random sample from the normal distribution with mean $μ$ and variance $σ^2$. Assuming that the sample size $n$ is 16, determine the values of the following probabilities:**\n",
    "\n",
    "**(a) $P(\\sigma^2{1 \\over 2} \\le {1 \\over n}\\sum_{i = 1}^n (X_i - \\mu)^2 \\le 2\\sigma^2)$**"
   ]
  },
  {
   "cell_type": "markdown",
   "metadata": {},
   "source": [
    "We have that,\n",
    "\n",
    "$$\n",
    "X_i \\sim \\text{Normal}(\\mu, \\sigma^2)\n",
    "$$\n",
    "\n",
    "Then,\n",
    "\n",
    "$$\n",
    "X_i - \\mu \\sim \\text{Normal}(0, \\sigma^2)\n",
    "$$\n",
    "\n",
    "$$\n",
    "{X_i - \\mu \\over \\sigma} \\sim \\text{Normal}(0, 1)\n",
    "$$\n",
    "\n",
    "$$\n",
    "\\left({X_i - \\mu \\over \\sigma}\\right)^2 \\sim \\chi^2(1)\n",
    "$$\n",
    "\n",
    "The sum of independent $\\chi^2$ variables is a $\\chi^2$ with the sum of the degrees of freedom.\n",
    "\n",
    "$$\n",
    "\\sum_{i = 1}^n \\left({X_i - \\mu \\over \\sigma}\\right)^2 \\sim \\chi^2(n)\n",
    "$$\n",
    "\n",
    "$$\n",
    "{1 \\over \\sigma^2} \\sum_{i = 1}^n \\left(X_i - \\mu\\right)^2 \\sim \\chi^2(n)\n",
    "$$\n",
    "\n",
    "Assume $n \\gt 0$,\n",
    "\n",
    "$$\n",
    "{n \\over \\sigma^2}{1 \\over n} \\sum_{i = 1}^n \\left(X_i - \\mu\\right)^2 \\sim \\chi^2(n)\n",
    "$$\n",
    "\n",
    "Let,\n",
    "\n",
    "$$\n",
    "\\hat{\\sigma}^2 = {1 \\over n} \\sum_{i = 1}^n \\left(X_i - \\mu\\right)^2\n",
    "$$\n",
    "\n",
    "Then,\n",
    "\n",
    "$$\n",
    "{n \\over \\sigma^2}\\hat{\\sigma}^2 \\sim \\chi^2(n)\n",
    "$$\n",
    "\n",
    "By assumption ${n \\over \\sigma^2} \\gt 0$, so multiplication by this quantity constitutes a monotone increasing transform. So,\n",
    "\n",
    "$$\n",
    "P({\\sigma^2 \\over 2} \\le \\hat{\\sigma}^2 \\le 2\\sigma^2) =\n",
    "P({n \\over \\sigma^2}{\\sigma^2 \\over 2} \\le {n \\over \\sigma^2}\\hat{\\sigma}^2 \\le {n \\over \\sigma^2}2\\sigma^2)\n",
    "$$\n",
    "\n",
    "$$\n",
    "P({\\sigma^2 \\over 2} \\le \\hat{\\sigma}^2 \\le 2\\sigma^2) =\n",
    "P({n \\over 2} \\le {n \\over \\sigma^2}\\hat{\\sigma}^2 \\le 2n)\n",
    "$$\n",
    "\n",
    "Let $\\Phi_n$ denote the CDF of the $\\chi^2(n)$. Then,\n",
    "\n",
    "$$\n",
    "P({\\sigma^2 \\over 2} \\le \\hat{\\sigma}^2 \\le 2\\sigma^2) =\n",
    "\\Phi_n(2n) - \\Phi_n(n/2)\n",
    "$$\n",
    "\n",
    "So,\n",
    "\n",
    "$$\n",
    "P(\\sigma^2{1 \\over 2} \\le {1 \\over n}\\sum_{i = 1}^n (X_i - \\mu)^2 \\le 2\\sigma^2) =\n",
    "\\Phi_n(2n) - \\Phi_n(n/2)\n",
    "$$\n",
    "\n",
    "The $\\chi^2$ CDF has no closed form, but we can evaluate this quantity numerically when $n = 16$."
   ]
  },
  {
   "cell_type": "code",
   "execution_count": 2,
   "metadata": {},
   "outputs": [
    {
     "data": {
      "text/plain": [
       "np.float64(0.9388666032540479)"
      ]
     },
     "execution_count": 2,
     "metadata": {},
     "output_type": "execute_result"
    }
   ],
   "source": [
    "n = 16\n",
    "stats.chi2(df=n).cdf(2*n) - stats.chi2(df=n).cdf(n/2)"
   ]
  },
  {
   "cell_type": "markdown",
   "metadata": {},
   "source": [
    "So,\n",
    "\n",
    "$$\n",
    "P(\\sigma^2{1 \\over 2} \\le {1 \\over 16}\\sum_{i = 1}^{16} (X_i - \\mu)^2 \\le 2\\sigma^2) =\n",
    "0.9388666032540479\n",
    "$$"
   ]
  },
  {
   "cell_type": "markdown",
   "metadata": {},
   "source": [
    "**(b) $P(\\sigma^2{1 \\over 2} \\le {1 \\over n}\\sum_{i = 1}^n (X_i - \\overline{X}_n)^2 \\le 2\\sigma^2)$**"
   ]
  },
  {
   "cell_type": "markdown",
   "metadata": {},
   "source": [
    "The inner term is equal to the sample variance.\n",
    "\n",
    "$$\n",
    "\\hat{\\sigma}^2 = {1 \\over n}\\sum_{i = 1}^n (X_i - \\overline{X}_n)^2\n",
    "$$\n",
    "\n",
    "Further, it is known that,\n",
    "\n",
    "$$\n",
    "{n \\over \\sigma^2}\\hat{\\sigma}^2 \\sim \\chi^2(n - 1)\n",
    "$$\n",
    "\n",
    "Consider the probability that this this term is between $n/2$ and $2n$, inclusive. Assume, $\\sigma^2 \\gt 0$ and $n \\gt 0$. So,\n",
    "\n",
    "$$\n",
    "P({n \\over 2} \\le {n \\over \\sigma^2}\\hat{\\sigma}^2 \\le 2n) = P({\\sigma^2 \\over 2} \\le \\hat{\\sigma}^2 \\le 2\\sigma^2)\n",
    "$$\n",
    "\n",
    "Then,\n",
    "\n",
    "$$\n",
    "P({n \\over 2} \\le {1 \\over \\sigma^2}\\hat{\\sigma}^2 \\le 2n) = P({1 \\over 2}\\sigma^2 \\le {1 \\over n}\\sum_{i = 1}^n (X_i - \\overline{X}_n)^2 \\le 2\\sigma^2)\n",
    "$$\n",
    "\n",
    "Let $\\Phi_{\\alpha}(x)$ denote the CDF of the $\\chi^2$ distribution with $\\alpha$ degrees of freedom. Then,\n",
    "\n",
    "$$\n",
    "P({n \\over 2} \\le {n \\over \\sigma^2}\\hat{\\sigma}^2 \\le 2n) = \\Phi_{n - 1}(2n) - \\Phi_{n - 1}(n/2)\n",
    "$$\n",
    "\n",
    "Then,\n",
    "\n",
    "$$\n",
    "P({1 \\over 2}\\sigma^2 \\le {1 \\over n}\\sum_{i = 1}^n (X_i - \\overline{X}_n)^2 \\le 2\\sigma^2) = \\Phi_{n - 1}(2n) - \\Phi_{n - 1}(n/2)\n",
    "$$\n",
    "\n",
    "When $n = 16$,\n",
    "\n",
    "$$\n",
    "P({1 \\over 2}\\sigma^2 \\le {1 \\over n}\\sum_{i = 1}^n (X_i - \\overline{X}_n)^2 \\le 2\\sigma^2) = \\Phi_{15}(2(16)) - \\Phi_{16}((16)/2)\n",
    "$$\n",
    "\n",
    "$$\n",
    "P({1 \\over 2}\\sigma^2 \\le {1 \\over 16}\\sum_{i = 1}^{16} (X_i - \\overline{X}_{16})^2 \\le 2\\sigma^2) = \\Phi_{15}(32) - \\Phi_{16}(8)\n",
    "$$\n",
    "\n",
    "There is no closed form for $\\Phi_{15}$, but this term can be evaluated numerically."
   ]
  },
  {
   "cell_type": "code",
   "execution_count": 3,
   "metadata": {},
   "outputs": [
    {
     "data": {
      "text/plain": [
       "np.float64(0.9173445555378668)"
      ]
     },
     "execution_count": 3,
     "metadata": {},
     "output_type": "execute_result"
    }
   ],
   "source": [
    "stats.chi2.cdf(df=15, x=32) - stats.chi2.cdf(df=15, x=8)"
   ]
  },
  {
   "cell_type": "markdown",
   "metadata": {},
   "source": [
    "So, when $n = 16$,\n",
    "\n",
    "$$\n",
    "P(\\sigma^2{1 \\over 2} \\le {1 \\over n}\\sum_{i = 1}^n (X_i - \\overline{X}_n)^2 \\le 2\\sigma^2) = 0.9173445555378668\n",
    "$$\n",
    "\n",
    "We can interpret this as the probability that the sample variance is within a factor of 2 of the true variance. This is a small sample, so there is almost a 10% probability that the sample variance is off by a factor of at least 2."
   ]
  },
  {
   "cell_type": "markdown",
   "metadata": {},
   "source": [
    "**9. Suppose that each of two statisticians, $A$ and $B$, independently takes a random sample of 20 observations from the normal distribution with unknown mean $μ$ and known variance 4. Suppose also that statistician $A$ finds the sample variance in his random sample to be 3.8, and statistician $B$ finds the sample variance in her random sample to be 9.4. For which random sample is the sample mean likely to be closer to the unknown value of $μ$?**"
   ]
  },
  {
   "cell_type": "markdown",
   "metadata": {},
   "source": [
    "One way to operationalize this question is to ask about the confidence intervals that $A$ and $B$ will have for $\\mu$. In each case, the distribution of the sample mean is given by,\n",
    "\n",
    "$$\n",
    "\\overline{X}_n \\sim \\text{Normal}(\\mu, \\sigma^2/n) = \\text{Normal}(\\mu, 0.2)\n",
    "$$\n",
    "\n",
    "Since the sampling distributions are the same, the confidence intervals will be the same. So, for example, the 95% confidence interval in each case is given by,\n",
    "\n",
    "$$\n",
    "\\overline{X}_n \\pm 1.96(0.2) = [\\overline{X}_n - 0.392, \\overline{X}_n + 0.392]\n",
    "$$\n",
    "\n",
    "Note that this only works because the variance is known. If the variance were unknown, then the sample variance would be used to estimate the variance for the confidence interval. In this case, $B$ would have a wider confidence interval."
   ]
  },
  {
   "cell_type": "markdown",
   "metadata": {},
   "source": [
    "Another way to operationalize this question would be to define some loss function $L$ and ask about the expected loss $A$ and $B$ would incur using their estimators, $\\hat{\\mu}_A$ and $\\hat{\\mu}_B$. Suppose the ratio is given by $c$, so that,\n",
    "\n",
    "$$\n",
    "E[L(\\hat{\\mu}_A, \\mu)] = cE[L(\\hat{\\mu}_B, \\mu)]\n",
    "$$\n",
    "\n",
    "If the variance is known, then,\n",
    "\n",
    "$$\n",
    "\\hat{\\mu}_A \\sim \\text{Normal}(\\mu, 0.2)\n",
    "$$\n",
    "\n",
    "$$\n",
    "\\hat{\\mu}_B \\sim \\text{Normal}(\\mu, 0.2)\n",
    "$$\n",
    "\n",
    "So,\n",
    "\n",
    "$$\n",
    "E[L(\\hat{\\mu}_A, \\mu)] = E[L(\\hat{\\mu}_B, \\mu)]\n",
    "$$\n",
    "\n",
    "So,\n",
    "\n",
    "$$\n",
    "c = 1\n",
    "$$\n",
    "\n",
    "They have the same expected loss."
   ]
  },
  {
   "cell_type": "markdown",
   "metadata": {},
   "source": []
  }
 ],
 "metadata": {
  "kernelspec": {
   "display_name": "venv",
   "language": "python",
   "name": "python3"
  },
  "language_info": {
   "codemirror_mode": {
    "name": "ipython",
    "version": 3
   },
   "file_extension": ".py",
   "mimetype": "text/x-python",
   "name": "python",
   "nbconvert_exporter": "python",
   "pygments_lexer": "ipython3",
   "version": "3.13.1"
  }
 },
 "nbformat": 4,
 "nbformat_minor": 2
}
