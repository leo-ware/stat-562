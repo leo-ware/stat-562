{
 "cells": [
  {
   "cell_type": "markdown",
   "metadata": {},
   "source": [
    "# Chapter 9.2"
   ]
  },
  {
   "cell_type": "markdown",
   "metadata": {},
   "source": [
    "**4. Consider again the conditions of Exercise 2, but suppose now that it is desired to find a test procedure for which α(δ) ≤ 0.1 and β(δ) is a minimum.**"
   ]
  },
  {
   "cell_type": "markdown",
   "metadata": {},
   "source": [
    "From exercise 2, we have:\n",
    "\n",
    "$$\n",
    "f_0(x) = \\begin{cases}\n",
    "1 & \\text{if } x \\in [0, 1] \\\\\n",
    "0 & \\text{otherwise}\n",
    "\\end{cases}\n",
    "$$\n",
    "\n",
    "$$\n",
    "f_1(x) = \\begin{cases}\n",
    "2x & \\text{if } x \\in [0, 1] \\\\\n",
    "0 & \\text{otherwise}\n",
    "\\end{cases}\n",
    "$$\n",
    "\n",
    "$$H_0: f (x)= f_0(x)$$\n",
    "$$H_1: f (x)= f_1(x)$$"
   ]
  },
  {
   "cell_type": "markdown",
   "metadata": {},
   "source": [
    "**a. Describe the procedure.**"
   ]
  },
  {
   "cell_type": "markdown",
   "metadata": {},
   "source": [
    "Both $f_0$ and $f_1$ describe simply hypotheses. So, we can apply the Neyman-Pearson lemma.\n",
    "\n",
    "The most powerful test with $\\alpha = 0.1$ is given by,\n",
    "\n",
    "$$\n",
    "{f_1(x) \\over f_0(x)} \\geq k\n",
    "$$\n",
    "\n",
    "We need to solve for $k$ such that,\n",
    "\n",
    "$$\n",
    "P\\left({f_1(x) \\over f_0(x)} \\geq k  \\big| H_0 \\right) = 0.1\n",
    "$$\n",
    "\n"
   ]
  },
  {
   "cell_type": "markdown",
   "metadata": {},
   "source": [
    "Under both hypotheses, the support of $x$ is $[0, 1]$. So, we can assume that this condition holds.\n",
    "\n",
    "Consider the event,\n",
    "\n",
    "$$\n",
    "{f_1(x) \\over f_0(x)} \\ge k\n",
    "$$\n",
    "\n",
    "This is equivalent to,\n",
    "\n",
    "$$\n",
    "{2x \\over 1} \\ge k\n",
    "$$\n",
    "\n",
    "$$\n",
    "2x \\ge k\n",
    "$$"
   ]
  },
  {
   "cell_type": "markdown",
   "metadata": {},
   "source": [
    "Under the null, the probability of this event is given by,\n",
    "\n",
    "$$\n",
    "P(x \\ge k / 2 | H_0) = \\int_{k/2}^1 f_0(x) dx\n",
    "$$\n",
    "\n",
    "$$\n",
    "P(x \\ge k / 2 | H_0) = \\int_{k/2}^1 dx\n",
    "$$\n",
    "\n",
    "$$\n",
    "P(x \\ge k / 2 | H_0) = \\big[x\\big]_{k/2}^1\n",
    "$$\n",
    "\n",
    "$$\n",
    "P(x \\ge k / 2 | H_0) = 1 - k/2\n",
    "$$\n",
    "\n",
    "So,\n",
    "\n",
    "$$\n",
    "\\alpha = 1 - k/2\n",
    "$$\n",
    "\n",
    "$$\n",
    "0.1 = 1 - k/2\n",
    "$$\n",
    "\n",
    "$$\n",
    "k/2 = 0.9\n",
    "$$\n",
    "\n",
    "$$\n",
    "k = 1.8\n",
    "$$"
   ]
  },
  {
   "cell_type": "markdown",
   "metadata": {},
   "source": [
    "So, under our test procedure, we reject if,\n",
    "\n",
    "$$\n",
    "2x \\gt 1.8\n",
    "$$\n",
    "\n",
    "Equivalently,\n",
    "\n",
    "$$\n",
    "x \\gt 0.9\n",
    "$$"
   ]
  },
  {
   "cell_type": "markdown",
   "metadata": {},
   "source": [
    "**b. Determine the minimum value of β(δ) attained by the procedure.**"
   ]
  },
  {
   "cell_type": "markdown",
   "metadata": {},
   "source": [
    "We have that, under the null, $x$ is from the uniform on $[0, 1]$. So,\n",
    "\n",
    "$$\n",
    "P(x \\ge 0.9 | H_0) = 0.1\n",
    "$$\n",
    "\n",
    "Meanwhile,\n",
    "\n",
    "$$\n",
    "P(x \\ge 0.9 | H_1) = \\int_{0.9}^1 f_1(x) dx\n",
    "$$\n",
    "\n",
    "So,\n",
    "\n",
    "$$\n",
    "P(x \\ge 0.9 | H_1) = \\int_{0.9}^1 2x dx\n",
    "$$\n",
    "\n",
    "$$\n",
    "P(x \\ge 0.9 | H_1) = \\left[ {x^2 \\over 2}\\right]_{0.9}^1 2x\n",
    "$$\n",
    "\n",
    "$$\n",
    "P(x \\ge 0.9 | H_1) = {1 \\over 2} - {0.9^2 \\over 2}\n",
    "$$\n",
    "\n",
    "$$\n",
    "P(x \\ge 0.9 | H_1) = {1 - 0.81 \\over 2}\n",
    "$$\n",
    "\n",
    "$$\n",
    "P(x \\ge 0.9 | H_1) = {0.19 \\over 2}\n",
    "$$\n",
    "\n",
    "$$\n",
    "P(x \\ge 0.9 | H_1) = 0.095\n",
    "$$\n",
    "\n",
    "So, the true positive rate is $0.095$. This seems pretty poor, but keep in mind that we only have one data point, and the distributions are fairly similar."
   ]
  },
  {
   "cell_type": "markdown",
   "metadata": {},
   "source": [
    "**7. Suppose that $X_1, . . . , X_n$ form a random sample from the normal distribution with known mean $μ$ and unknown variance $σ^2$, and the following simple hypotheses are to be tested:**\n",
    "\n",
    "$$H_0: σ^2= 2$$\n",
    "$$H_1: σ^2 = 3$$"
   ]
  },
  {
   "cell_type": "markdown",
   "metadata": {},
   "source": [
    "**a. Show that among all test procedures for which $α(δ) ≤ 0.05$, the value of $β(δ)$ is minimized by a procedure that rejects $H_0$ when $\\sum_{i = 1}^n (X_i - \\mu)^2 \\gt c$.**"
   ]
  },
  {
   "cell_type": "markdown",
   "metadata": {},
   "source": [
    "Let $L_0$ denote the likelihood of $X$ under the null and $L_1$ denote the likelihood under the alternate.\n",
    "\n",
    "Since both the null and alternate are simple hypotheses, we can apply the Neyman-Pearson lemma. So, for any test with $\\alpha \\le 0.05$, the most powerful test is given by,\n",
    "\n",
    "$$\n",
    "\\delta : {L_1 \\over L_0} \\gt k\n",
    "$$"
   ]
  },
  {
   "cell_type": "markdown",
   "metadata": {},
   "source": [
    "We have that,\n",
    "\n",
    "$$\n",
    "L_0 = \\prod_{i = 1}^n \\frac{1}{\\sqrt{2\\pi(2)}} \\exp\\left(-\\frac{(x_i-\\mu)^2}{2(2)}\\right)\n",
    "$$\n",
    "\n",
    "$$\n",
    "L_1 = \\prod_{i = 1}^n \\frac{1}{\\sqrt{2\\pi(3)}} \\exp\\left(-\\frac{(x_i-\\mu)^2}{2(3)}\\right)\n",
    "$$\n",
    "\n",
    "Then,\n",
    "\n",
    "$$\n",
    "L_0 = \\left(\\frac{1}{\\sqrt{2\\pi(2)}}\\right)^n \\prod_{i = 1}^n  \\exp\\left(-\\frac{(x_i-\\mu)^2}{2(2)}\\right)\n",
    "$$\n",
    "\n",
    "$$\n",
    "L_1 = \\left(\\frac{1}{\\sqrt{2\\pi(3)}} \\right)^n \\prod_{i = 1}^n \\exp\\left(-\\frac{(x_i-\\mu)^2}{2(3)}\\right)\n",
    "$$\n",
    "\n",
    "Then,\n",
    "\n",
    "$$\n",
    "L_0 = \\left(\\frac{1}{\\sqrt{2\\pi}\\sqrt{2}}\\right)^n \\exp\\left( \\sum_{i = 1}^n -\\frac{(x_i-\\mu)^2}{2(2)}\\right)\n",
    "$$\n",
    "\n",
    "$$\n",
    "L_1 = \\left(\\frac{1}{\\sqrt{2\\pi}\\sqrt{3}} \\right)^n \\exp\\left( \\sum_{i = 1}^n -\\frac{(x_i-\\mu)^2}{2(3)}\\right)\n",
    "$$\n",
    "\n",
    "Then,\n",
    "\n",
    "$$\n",
    "L_0 =\n",
    "\\left(\\frac{1}{\\sqrt{2\\pi}}\\right)^n\n",
    "\\left(\\frac{1}{\\sqrt{2}}\\right)^n\n",
    "\\exp \\left( {1 \\over 4} \\sum_{i = 1}^n -(x_i-\\mu)^2 \\right)\n",
    "$$\n",
    "\n",
    "$$\n",
    "L_1 =\n",
    "\\left(\\frac{1}{\\sqrt{2\\pi}} \\right)^n\n",
    "\\left(\\frac{1}{\\sqrt{3}} \\right)^n\n",
    "\\exp \\left( {1 \\over 6} \\sum_{i = 1}^n -(x_i-\\mu)^2 \\right)\n",
    "$$"
   ]
  },
  {
   "cell_type": "markdown",
   "metadata": {},
   "source": [
    "Let $\\phi$ denote the likelihood ratio, so,\n",
    "\n",
    "$$\n",
    "\\phi = {L_1 \\over L_0}\n",
    "$$\n",
    "\n",
    "Then,\n",
    "\n",
    "$$\n",
    "\\phi = {\n",
    "    {\n",
    "        \\left(\\frac{1}{\\sqrt{2\\pi}}\\right)^n\n",
    "        \\left(\\frac{1}{\\sqrt{2}}\\right)^n\n",
    "        \\exp \\left( {1 \\over 4} \\sum_{i = 1}^n -(x_i-\\mu)^2 \\right)\n",
    "    } \\over\n",
    "    {\n",
    "        \\left(\\frac{1}{\\sqrt{2\\pi}} \\right)^n\n",
    "        \\left(\\frac{1}{\\sqrt{3}} \\right)^n\n",
    "        \\exp \\left( {1 \\over 6} \\sum_{i = 1}^n -(x_i-\\mu)^2 \\right)\n",
    "    }\n",
    "}\n",
    "$$\n",
    "\n",
    "$$\n",
    "\\phi =\n",
    "\\left(\\frac{\\sqrt{3}}{\\sqrt{2}}\\right)^n\n",
    "\\exp \\left(\n",
    "    {1 \\over 4} \\sum_{i = 1}^n -(x_i-\\mu)^2 -\n",
    "    {1 \\over 6} \\sum_{i = 1}^n -(x_i-\\mu)^2\n",
    "\\right)\n",
    "$$\n",
    "\n",
    "$$\n",
    "\\phi =\n",
    "\\left(\\frac{\\sqrt{3}}{\\sqrt{2}}\\right)^n\n",
    "\\exp \\left(\n",
    "\\left(\n",
    "    {1 \\over 4}-\n",
    "    {1 \\over 6}\n",
    "\\right)\n",
    "\\sum_{i = 1}^n -(x_i-\\mu)^2\n",
    "\\right)\n",
    "$$\n",
    "\n",
    "$$\n",
    "\\phi =\n",
    "\\left(\\frac{\\sqrt{3}}{\\sqrt{2}}\\right)^n\n",
    "\\exp \\left(\n",
    "{1 \\over 12}\n",
    "\\sum_{i = 1}^n -(x_i-\\mu)^2\n",
    "\\right)\n",
    "$$"
   ]
  },
  {
   "cell_type": "markdown",
   "metadata": {},
   "source": [
    "Consider the natural logarithm,\n",
    "\n",
    "$$\n",
    "\\ln(\\phi) =\n",
    "n \\ln \\left(\\frac{\\sqrt{3}}{\\sqrt{2}}\\right) +\n",
    "{1 \\over 12}\n",
    "\\sum_{i = 1}^n -(x_i-\\mu)^2\n",
    "$$"
   ]
  },
  {
   "cell_type": "markdown",
   "metadata": {},
   "source": [
    "We are interested in the event where,\n",
    "\n",
    "$$\n",
    "\\delta: \\phi \\gt k\n",
    "$$\n",
    "\n",
    "But, $\\phi$ is a ratio of two even quantities, so $\\phi$ is positive. So, this is equivalent to the event where,\n",
    "\n",
    "$$\n",
    "\\delta: \\ln(\\phi) \\gt \\ln(k)\n",
    "$$\n",
    "\n",
    "Then,\n",
    "\n",
    "$$\n",
    "\\delta:\n",
    "n \\ln \\left(\\frac{\\sqrt{3}}{\\sqrt{2}}\\right) +\n",
    "{1 \\over 12}\n",
    "\\sum_{i = 1}^n -(x_i-\\mu)^2\n",
    "\\gt\n",
    "\\ln(k)\n",
    "$$\n",
    "\n",
    "$$\n",
    "\\delta:\n",
    "{1 \\over 12}\n",
    "\\sum_{i = 1}^n -(x_i-\\mu)^2\n",
    "\\gt\n",
    "\\ln(k) - n \\ln \\left(\\frac{\\sqrt{3}}{\\sqrt{2}}\\right)\n",
    "$$\n",
    "\n",
    "$$\n",
    "\\delta:\n",
    "\\sum_{i = 1}^n (x_i-\\mu)^2\n",
    "\\gt\n",
    "-12 \\left(\\ln(k) - n \\ln \\left(\\frac{\\sqrt{3}}{\\sqrt{2}}\\right)\\right)\n",
    "$$"
   ]
  },
  {
   "cell_type": "markdown",
   "metadata": {},
   "source": [
    "But, the right hand side of this equation is a constant. So, for upper bounded $\\alpha$, for some $c \\in \\mathbb{R}$, the most powerful test is given by,\n",
    "\n",
    "$$\n",
    "\\delta:\n",
    "\\sum_{i = 1}^n (x_i-\\mu)^2\n",
    "\\gt\n",
    "c\n",
    "$$"
   ]
  },
  {
   "cell_type": "markdown",
   "metadata": {},
   "source": [
    "**b. For n = 8, find the value of the constant c that appears\n",
    "in part (a).**"
   ]
  },
  {
   "cell_type": "markdown",
   "metadata": {},
   "source": [
    "We need to find $c$ such that,\n",
    "\n",
    "$$\n",
    "P \\left(\\sum_{i = 1}^n (X_i - \\mu)^2 \\gt c \\bigg| H_0 \\right) \\le 0.05\n",
    "$$"
   ]
  },
  {
   "cell_type": "markdown",
   "metadata": {},
   "source": [
    "Under the null, Each $X_i$ is normally distributed,\n",
    "\n",
    "$$\n",
    "X_i | H_0 \\sim \\text{Normal}(\\mu, 2)\n",
    "$$\n",
    "\n",
    "Subtract ${X_i - \\mu \\over \\sqrt{2}}$. This is a linear transformation of a normal, so it's normal.\n",
    "\n",
    "$$\n",
    "E\\left[ {X_i - \\mu \\over \\sqrt{2}} \\right] = {1 \\over \\sqrt{2}}(E[ X_i] - \\mu) = 0\n",
    "$$\n",
    "\n",
    "By the properties of variance,\n",
    "\n",
    "$$\n",
    "var\\left[ {X_i - \\mu \\over \\sqrt{2}} \\right] = {1 \\over 2}var[X_i] = 1\n",
    "$$\n",
    "\n",
    "So,\n",
    "\n",
    "$$\n",
    "{X_i - \\mu \\over \\sqrt{2}} \\bigg| H_0 \\sim \\text{Normal}(0, 1)\n",
    "$$\n",
    "\n",
    "So,\n",
    "\n",
    "$$\n",
    "{(X_i - \\mu)^2 \\over 2} \\bigg| H_0 \\sim \\chi^2(1)\n",
    "$$\n",
    "\n",
    "So,\n",
    "\n",
    "$$\n",
    "{1 \\over 2}\\sum_{i = 1}^n (X_i - \\mu)^2 \\bigg| H_0 \\sim \\chi^2(n)\n",
    "$$"
   ]
  },
  {
   "cell_type": "markdown",
   "metadata": {},
   "source": [
    "We are interested in the event where,\n",
    "\n",
    "$$\n",
    "\\sum_{i = 1}^n (X_i - \\mu)^2 \\gt c\n",
    "$$\n",
    "\n",
    "This is equivalent to,\n",
    "\n",
    "$$\n",
    "{1 \\over 2} \\sum_{i = 1}^n (X_i - \\mu)^2 \\gt {c \\over 2}\n",
    "$$\n",
    "\n",
    "Let $\\Phi_n$ denote the cdf of the $\\chi^2$ distribution with $n$ degrees of freedom. Then,\n",
    "\n",
    "$$\n",
    "P\\left({1 \\over 2} \\sum_{i = 1}^n (X_i - \\mu)^2 \\gt {c \\over 2}\\right) = 1 - \\Phi_n(c/2)\n",
    "$$\n",
    "\n",
    "So,\n",
    "\n",
    "$$\n",
    "P\\left(\\sum_{i = 1}^n (X_i - \\mu)^2 \\gt c\\right) = 1 - \\Phi_n(c/2)\n",
    "$$\n",
    "\n",
    "So,\n",
    "\n",
    "$$\n",
    "\\alpha(\\delta) = 1 - \\Phi_n(c/2)\n",
    "$$"
   ]
  },
  {
   "cell_type": "markdown",
   "metadata": {},
   "source": [
    "Suppose,\n",
    "\n",
    "$$\n",
    "\\alpha(\\delta) = 0.05\n",
    "$$\n",
    "\n",
    "Then,\n",
    "\n",
    "$$\n",
    "1 - \\Phi_n(c/2) = 0.05\n",
    "$$\n",
    "\n",
    "$$\n",
    "0.95 = \\Phi_n(c/2)\n",
    "$$\n",
    "\n",
    "Let $\\Phi_n^{-1}$ denote the inverse of $\\Phi_n$. Then,\n",
    "\n",
    "$$\n",
    "{c \\over 2} = \\Phi_n^{-1}(0.95)\n",
    "$$\n",
    "\n",
    "$$\n",
    "c = 2\\Phi_n^{-1}(0.95)\n",
    "$$\n",
    "\n",
    "This can be solved numerically for $n = 8$"
   ]
  },
  {
   "cell_type": "code",
   "execution_count": 1,
   "metadata": {},
   "outputs": [
    {
     "data": {
      "text/plain": [
       "np.float64(31.0146261117309)"
      ]
     },
     "execution_count": 1,
     "metadata": {},
     "output_type": "execute_result"
    }
   ],
   "source": [
    "from scipy import stats\n",
    "\n",
    "c = 2 * stats.chi2.ppf(0.95, df = 8)\n",
    "c"
   ]
  },
  {
   "cell_type": "markdown",
   "metadata": {},
   "source": [
    "So,\n",
    "\n",
    "$$\n",
    "c = 31.0146261117309\n",
    "$$\n",
    "\n",
    "So, our test is,\n",
    "\n",
    "$$\n",
    "\\sum_{i = 1}^n (X_i - \\mu)^2 \\gt 31.0146261117309\n",
    "$$"
   ]
  },
  {
   "cell_type": "markdown",
   "metadata": {},
   "source": [
    "# Section 9.3"
   ]
  },
  {
   "cell_type": "markdown",
   "metadata": {},
   "source": [
    "**2. Suppose that $X_1, . . . , X_n$ form a random sample from the normal distribution with known mean $μ$ and unknown variance $σ^2$ ($σ^2 > 0$). Show that the joint p.d.f. of $X_1, . . . , X_n$ has a monotone likelihood ratio in the statistic $\\sum_{i = 1}^n(X_i - \\mu)^2$.**"
   ]
  },
  {
   "cell_type": "markdown",
   "metadata": {},
   "source": [
    "Let,\n",
    "\n",
    "$$\n",
    "T = \\sum_{i = 1}^n (X_i - \\mu)^2\n",
    "$$\n",
    "\n",
    "We have that,\n",
    "\n",
    "$$\n",
    "P(X_1...X_n = x_1...x_n | \\sigma^2) = \\prod_{i = 1}^n (2\\pi \\sigma^2)^{-1/2} \\exp\\left( -{(x_i - \\mu)^2 \\over 2\\sigma^2} \\right)\n",
    "$$\n",
    "\n",
    "So, the log likelihood is given by,\n",
    "\n",
    "$$\n",
    "\\mathcal{L}(\\sigma^2) = \\sum_{i = 1}^n -{1 \\over 2} \\left( \\ln(2\\pi) + \\ln(\\sigma^2) + {(X_i - \\mu)^2 \\over \\sigma^2} \\right)\n",
    "$$\n",
    "\n",
    "$$\n",
    "\\mathcal{L}(\\sigma^2) =  -{1 \\over 2} \\left( n\\ln(2\\pi) + n\\ln(\\sigma^2) + \\sum_{i = 1}^n{(X_i - \\mu)^2 \\over \\sigma^2} \\right)\n",
    "$$"
   ]
  },
  {
   "cell_type": "markdown",
   "metadata": {},
   "source": [
    "Let,\n",
    "\n",
    "$$\n",
    "\\phi = \\mathcal{L}(\\sigma_1^2) - \\mathcal{L}(\\sigma_0^2)\n",
    "$$\n",
    "\n",
    "Then,\n",
    "\n",
    "$$\n",
    "\\phi = {\n",
    "     -{1 \\over 2} \\left( n\\ln(2\\pi) + n\\ln(\\sigma_1^2) + \\sum_{i = 1}^n{(X_i - \\mu)^2 \\over \\sigma_1^2} \\right)\n",
    "     -{1 \\over 2} \\left( n\\ln(2\\pi) + n\\ln(\\sigma_0^2) + \\sum_{i = 1}^n{(X_i - \\mu)^2 \\over \\sigma_0^2} \\right)\n",
    "}\n",
    "$$\n",
    "\n",
    "$$\n",
    "\\phi = {\n",
    "     -{1 \\over 2} \\left( n\\ln(\\sigma_1^2) + \\sum_{i = 1}^n{(X_i - \\mu)^2 \\over \\sigma_1^2}\n",
    "     - n\\ln(\\sigma_0^2) - \\sum_{i = 1}^n{(X_i - \\mu)^2 \\over \\sigma_0^2} \\right)\n",
    "}\n",
    "$$\n",
    "\n",
    "$$\n",
    "\\phi = {\n",
    "    -{1 \\over 2} \\left(\n",
    "        n\\ln(\\sigma_1^2) - n\\ln(\\sigma_0^2)\n",
    "        + {1 \\over \\sigma_1^2} \\sum_{i = 1}^n(X_i - \\mu)^2\n",
    "        - {1 \\over \\sigma_0^2} \\sum_{i = 1}^n(X_i - \\mu)^2\n",
    "    \\right)\n",
    "}\n",
    "$$"
   ]
  },
  {
   "cell_type": "markdown",
   "metadata": {},
   "source": [
    "Let,\n",
    "\n",
    "$$\n",
    "T = \\sum_{i = 1}^n(X_i - \\mu)^2\n",
    "$$\n",
    "\n",
    "Then,\n",
    "\n",
    "$$\n",
    "\\phi = {\n",
    "    -{1 \\over 2} \\left(\n",
    "        n\\ln(\\sigma_1^2) - n\\ln(\\sigma_0^2)\n",
    "        + \\left({1 \\over \\sigma_1^2} - {1 \\over \\sigma_0^2}\\right)\n",
    "        T\n",
    "    \\right)\n",
    "}\n",
    "$$\n",
    "\n",
    "Then,\n",
    "\n",
    "$$\n",
    "{d \\over dT}\\phi = {\n",
    "    -{1 \\over 2} \\left({1 \\over \\sigma_1^2} - {1 \\over \\sigma_0^2}\\right)\n",
    "}\n",
    "$$"
   ]
  },
  {
   "cell_type": "markdown",
   "metadata": {},
   "source": [
    "So, the derivative of the log likelihood ratio with respect to $T$ is a constant. Under the assumption that that $\\sigma_0^2 \\ne \\sigma_1^2$, it is nonzero. So, $\\phi$ is monotone with respect to $T$.\n",
    "\n",
    "But, if the log likelihood ratio is monotone in $T$, then the likelihood ratio is monotone in $T$. So, the likelihood ratio is monotone in $\\sum_{i = 1}^n(X_i - \\mu)^2$."
   ]
  },
  {
   "cell_type": "markdown",
   "metadata": {},
   "source": [
    "**8. Suppose that $X_1, . . . , X_n$ form a random sample from the normal distribution with known mean $0$ and unknown variance $σ^2$, and suppose that it is desired to test the following hypotheses:**\n",
    "\n",
    "$$H_0: σ^2 ≤ 2$$\n",
    "$$H_1: σ^2 > 2$$\n",
    "\n",
    "**Show that there exists a UMP test of these hypotheses at every level of significance $α_0$ $(0 < α_0 < 1)$.**"
   ]
  },
  {
   "cell_type": "markdown",
   "metadata": {},
   "source": [
    "We demonstrated earlier that the likelihood ratio $L(\\sigma_1^2) / L(\\sigma_0^2)$ is monotone in the statistic $T = \\sum_{i = 1}^n(X_i - \\mu)^2$.\n",
    "\n",
    "Since this is a one sided test, we can apply the UMP theorem to show that, for any significance level $\\alpha_0$, exists an UMP test of the form,\n",
    "\n",
    "$$\n",
    "T \\ge c\n",
    "$$\n",
    "\n",
    "Since, in this case, $\\mu = 0$, we can simplify the expression for $T$.\n",
    "\n",
    "$$\n",
    "T = \\sum_{i = 1}^n X_i^2\n",
    "$$"
   ]
  },
  {
   "cell_type": "markdown",
   "metadata": {},
   "source": [
    "**9. Show that the UMP test in Exercise 8 rejects $H_0$ when $\\sum_{i = 1}^n X_i^2 \\ge c$, and determine the value of $c$ when $n = 10$ and $α_0 = 0.05$.**\n",
    "\n"
   ]
  },
  {
   "cell_type": "markdown",
   "metadata": {},
   "source": [
    "We have already shown that the UMP test is, for some $c$,\n",
    "\n",
    "$$\n",
    "\\sum_{i = 1}^n X_i^2 \\ge c\n",
    "$$\n",
    "\n",
    "We now consider the case where $n = 10$ and $\\alpha_0 = 0.05$. We need to find $c$ such that,\n",
    "\n",
    "$$\n",
    "\\sup_{\\sigma^2 \\le 2}\\left(P\\left(\\sum_{i = 1}^n X_i^2 \\ge c\\right)\\right) = 0.05\n",
    "$$"
   ]
  },
  {
   "cell_type": "markdown",
   "metadata": {},
   "source": [
    "We have that,\n",
    "\n",
    "$$\n",
    "X_i \\sim \\text{Normal}(0, \\sigma^2)\n",
    "$$\n",
    "\n",
    "Consider the expression $X_i / \\sigma$. This is a linear transformation of a normal variable, so the result is normal.\n",
    "\n",
    "$$\n",
    "E[X_i/\\sigma] = {1 \\over \\sigma}E[X_i] = 0\n",
    "$$\n",
    "\n",
    "By the properties of variance,\n",
    "\n",
    "$$\n",
    "var(X_i / \\sigma) = {1 \\over \\sigma^2}var(X_i) = {1 \\over \\sigma^2}\\sigma^2 = 1\n",
    "$$\n",
    "\n",
    "So,\n",
    "\n",
    "$$\n",
    "{X_i \\over \\sigma} \\sim \\text{Normal}(0, 1)\n",
    "$$"
   ]
  },
  {
   "cell_type": "markdown",
   "metadata": {},
   "source": [
    "So,\n",
    "\n",
    "$$\n",
    "{X_i^2 \\over \\sigma^2} \\sim \\chi^2(1)\n",
    "$$\n",
    "\n",
    "So,\n",
    "\n",
    "$$\n",
    "\\sum_{i = 1}^n {X_i^2 \\over \\sigma^2} \\sim \\chi^2(n)\n",
    "$$\n",
    "\n",
    "$$\n",
    "{1 \\over \\sigma^2} \\sum_{i = 1}^n X_i^2 \\sim \\chi^2(n)\n",
    "$$\n",
    "\n",
    "Let $\\Phi_n$ be the cdf of the $\\chi^2$ distribution with $n$ degrees of freedom. Let $\\Phi_n^{-1}$ be the corresponding inverse function. Then,\n",
    "\n",
    "$$\n",
    "P({1 \\over \\sigma^2} \\sum_{i = 1}^n X_i^2 \\ge c_0) = 1 - \\Phi_n(c_0)\n",
    "$$\n",
    "\n",
    "Then, since variance is positive,\n",
    "\n",
    "$$\n",
    "P(\\sum_{i = 1}^n X_i^2 \\ge \\sigma^2 c_0) = 1 - \\Phi_n(c_0)\n",
    "$$\n",
    "\n",
    "Let $c = \\sigma^2 c_0$. Then,\n",
    "\n",
    "$$\n",
    "P(\\sum_{i = 1}^n X_i^2 \\ge \\sigma^2 c) = 1 - \\Phi_n(c / \\sigma^2)\n",
    "$$"
   ]
  },
  {
   "cell_type": "markdown",
   "metadata": {},
   "source": [
    "Then,\n",
    "\n",
    "$$\n",
    "\\sup_{\\sigma^2 \\le 2}(P(\\sum_{i = 1}^n X_i^2 \\ge \\sigma^2 c)) = \\sup_{\\sigma^2 \\le 2}(1 - \\Phi_n(c / \\sigma^2))\n",
    "$$"
   ]
  },
  {
   "cell_type": "markdown",
   "metadata": {},
   "source": [
    "So, we need to maximize $1 - \\Phi_n(c / \\sigma^2)$ subject to $\\sigma^2 \\le 2$. The derivative of $\\Phi_n$ is positive on its positive domain. So, for some $k \\gt 0$,\n",
    "\n",
    "$$\n",
    "{d \\over d\\sigma^2} (1 - \\Phi_n(c / \\sigma^2)) = -k{d \\over d \\sigma^2}(c\\sigma^{-2})\n",
    "$$\n",
    "\n",
    "Then,\n",
    "\n",
    "$$\n",
    "{d \\over d\\sigma^2} (1 - \\Phi_n(c / \\sigma^2)) = -kc(-1)\\sigma^{-4}\n",
    "$$\n",
    "\n",
    "$$\n",
    "{d \\over d\\sigma^2} (1 - \\Phi_n(c / \\sigma^2)) = kc\\sigma^{-4}\n",
    "$$"
   ]
  },
  {
   "cell_type": "markdown",
   "metadata": {},
   "source": [
    "So, when $c \\ne 0$ (which we can reasonably assume), the derivative is always positive. So, the quantity is maximized at the upper bound on $\\sigma^2$.\n",
    "\n",
    "$$\n",
    "\\sup_{\\sigma^2 \\le 2}(1 - \\Phi_n(c / \\sigma^2)) = (1 - \\Phi_n(c / 2))\n",
    "$$\n",
    "\n",
    "So,\n",
    "\n",
    "$$\n",
    "\\sup_{\\sigma^2 \\le 2}(P(\\sum_{i = 1}^n X_i^2 \\ge \\sigma^2 c)) = (1 - \\Phi_n(c / 2))\n",
    "$$\n",
    "\n",
    "So, by the definition of $\\alpha$,\n",
    "\n",
    "$$\n",
    "\\alpha = 1 - \\Phi_n(c / 2)\n",
    "$$\n",
    "\n",
    "We are interested in the case when $\\alpha = 0.05$.\n",
    "\n",
    "$$\n",
    "1 - \\Phi_n(c / 2) = 0.05\n",
    "$$\n",
    "\n",
    "Then,\n",
    "\n",
    "$$\n",
    "\\Phi_n(c / 2) = 0.95\n",
    "$$\n",
    "\n",
    "$$\n",
    "c/2 = \\Phi_n^{-1}(0.95)\n",
    "$$\n",
    "\n",
    "$$\n",
    "c = 2\\Phi_n^{-1}(0.95)\n",
    "$$\n",
    "\n",
    "This can be solved numerically for the case where $n = 10$."
   ]
  },
  {
   "cell_type": "code",
   "execution_count": 2,
   "metadata": {},
   "outputs": [
    {
     "data": {
      "text/plain": [
       "np.float64(36.61407610655029)"
      ]
     },
     "execution_count": 2,
     "metadata": {},
     "output_type": "execute_result"
    }
   ],
   "source": [
    "c = 2*stats.chi2(df = 10).ppf(0.95)\n",
    "c"
   ]
  },
  {
   "cell_type": "markdown",
   "metadata": {},
   "source": [
    "So,\n",
    "\n",
    "$$\n",
    "c = 36.61407610655029\n",
    "$$\n",
    "\n",
    "Our test is,\n",
    "\n",
    "$$\n",
    "\\sum_{i = 1}^n X_i^2 \\ge 36.61407610655029\n",
    "$$"
   ]
  },
  {
   "cell_type": "markdown",
   "metadata": {},
   "source": [
    "**13. Suppose that four observations are taken at random from the normal distribution with unknown mean μ and known variance 1. Suppose also that the following hypotheses are to be tested:**\n",
    "\n",
    "$$H_0: μ ≥ 10$$\n",
    "$$H_1: μ < 10$$\n",
    "\n",
    "**a. Determine a UMP test at the level of significance $α_0 = 0.1$.**"
   ]
  },
  {
   "cell_type": "markdown",
   "metadata": {},
   "source": [
    "We have that,\n",
    "\n",
    "$$\n",
    "P(X_1...X_n) = \\prod_{i = 1}^n (2\\pi)^{-1/2} \\exp(-(x_i - \\mu)^2/2)\n",
    "$$\n",
    "\n",
    "So, the likelihood of $\\mu$ is given by,\n",
    "\n",
    "$$\n",
    "L(\\mu) = \\prod_{i = 1}^n (2\\pi)^{-1/2} \\exp(-(X_i - \\mu)^2/2)\n",
    "$$\n",
    "\n",
    "$$\n",
    "L(\\mu) = (2\\pi)^{-n/2} \\prod_{i = 1}^n  \\exp(-(X_i - \\mu)^2/2)\n",
    "$$\n",
    "\n",
    "$$\n",
    "L(\\mu) = (2\\pi)^{-n/2} \\exp \\left( -{1 \\over 2} \\sum_{i = 1}^n (X_i - \\mu)^2 \\right)\n",
    "$$"
   ]
  },
  {
   "cell_type": "markdown",
   "metadata": {},
   "source": [
    "The likelihood ratio, $\\phi$, between $\\mu_1$ and $\\mu_0$ is given by,\n",
    "\n",
    "$$\n",
    "\\phi = {\n",
    "    (2\\pi)^{-n/2} \\exp \\left( -{1 \\over 2} \\sum_{i = 1}^n (X_i - \\mu_1)^2 \\right) \\over\n",
    "    (2\\pi)^{-n/2} \\exp \\left( -{1 \\over 2} \\sum_{i = 1}^n (X_i - \\mu_0)^2 \\right)\n",
    "}\n",
    "$$\n",
    "\n",
    "$$\n",
    "\\phi = {\n",
    "    \\exp \\left( -{1 \\over 2} \\sum_{i = 1}^n (X_i - \\mu_1)^2 \\right) \\over\n",
    "    \\exp \\left( -{1 \\over 2} \\sum_{i = 1}^n (X_i - \\mu_0)^2 \\right)\n",
    "}\n",
    "$$\n",
    "\n",
    "$$\n",
    "\\phi = {\n",
    "    \\exp \\left( -{1 \\over 2} \\sum_{i = 1}^n (X_i - \\mu_1)^2 - \\left( -{1 \\over 2} \\sum_{i = 1}^n (X_i - \\mu_0)^2 \\right) \\right)\n",
    "}\n",
    "$$\n",
    "\n",
    "$$\n",
    "\\phi = {\n",
    "    \\exp \\left( -{1 \\over 2} \\sum_{i = 1}^n \\left( (X_i - \\mu_1)^2 - (X_i - \\mu_0)^2 \\right) \\right)\n",
    "}\n",
    "$$\n",
    "\n",
    "$$\n",
    "\\phi = {\n",
    "    \\exp \\left( -{1 \\over 2} \\sum_{i = 1}^n \\left( (X_i^2 - 2X_i \\mu_1 + \\mu_1^2) - (X_i^2 - 2X_i \\mu_0 + \\mu_0^2) \\right) \\right)\n",
    "}\n",
    "$$\n",
    "\n"
   ]
  },
  {
   "cell_type": "markdown",
   "metadata": {},
   "source": [
    "$$\n",
    "\\phi = {\n",
    "    \\exp \\left( -{1 \\over 2} \\sum_{i = 1}^n \\left( - 2X_i \\mu_1 + \\mu_1^2 + 2X_i \\mu_0 - \\mu_0^2 \\right) \\right)\n",
    "}\n",
    "$$\n",
    "\n",
    "$$\n",
    "\\phi = {\n",
    "    \\exp \\left( -{1 \\over 2} \\sum_{i = 1}^n \\left( 2(\\mu_0 - \\mu_1)X_i + (\\mu_1^2 - \\mu_0^2) \\right) \\right)\n",
    "}\n",
    "$$\n",
    "\n",
    "$$\n",
    "\\phi = {\n",
    "    \\exp \\left( -{1 \\over 2} \\left( n(\\mu_1^2 - \\mu_0^2) + 2(\\mu_0 - \\mu_1) \\sum_{i = 1}^n X_i  \\right) \\right)\n",
    "}\n",
    "$$\n",
    "\n",
    "$$\n",
    "\\phi = {\n",
    "    \\exp \\left(  (\\mu_1 - \\mu_0 ) \\left( \\sum_{i = 1}^n X_i \\right) - {n(\\mu_1^2 - \\mu_0^2) \\over 2} \\right)\n",
    "}\n",
    "$$"
   ]
  },
  {
   "cell_type": "markdown",
   "metadata": {},
   "source": [
    "Let,\n",
    "\n",
    "$$\n",
    "T = \\sum_{i = 1}^n X_i\n",
    "$$\n",
    "\n",
    "Then,\n",
    "\n",
    "$$\n",
    "\\phi = {\n",
    "    \\exp \\left(  (\\mu_1 - \\mu_0) T \\right) \\exp\\left(-{n(\\mu_1^2 - \\mu_0^2) \\over 2} \\right)\n",
    "}\n",
    "$$\n",
    "\n",
    "If $\\mu_1 \\gt \\mu_0$, then $\\mu_1 - \\mu_0 \\gt 0$. So, the likelihood ratio is monotone increasing in $T$, and the null is a lower bound in $\\mu$. So, a UMP test for any $\\alpha$ is given by,\n",
    "\n",
    "$$\n",
    "T \\le c\n",
    "$$"
   ]
  },
  {
   "cell_type": "markdown",
   "metadata": {},
   "source": [
    "Consider the distribution of $T$. $T$ is a linear combination of normal variables, so it's normally distributed.\n",
    "\n",
    "Take the expectation.\n",
    "\n",
    "$$\n",
    "E[T] = E[\\sum_{i = 1}^n X_i]\n",
    "$$\n",
    "\n",
    "$$\n",
    "E[T] = \\sum_{i = 1}^n E[X_i]\n",
    "$$\n",
    "\n",
    "$$\n",
    "E[T] = \\sum_{i = 1}^n \\mu\n",
    "$$\n",
    "\n",
    "$$\n",
    "E[T] = n \\mu\n",
    "$$\n",
    "\n",
    "Take the variance.\n",
    "\n",
    "$$\n",
    "var(T) = var(\\sum_{i = 1}^n X_i)\n",
    "$$\n",
    "\n",
    "The $X_i$ are independent. So,\n",
    "\n",
    "$$\n",
    "var(T) = \\sum_{i = 1}^n var(X_i)\n",
    "$$\n",
    "\n",
    "$$\n",
    "var(T) = \\sum_{i = 1}^n 1\n",
    "$$\n",
    "\n",
    "$$\n",
    "var(T) = n\n",
    "$$\n",
    "\n",
    "So,\n",
    "\n",
    "$$\n",
    "T \\sim \\text{Normal}(n\\mu, n)\n",
    "$$"
   ]
  },
  {
   "cell_type": "markdown",
   "metadata": {},
   "source": [
    "Let $Z$ be a standard normal variable. Consider the quantity $n\\mu + \\sqrt{n}Z$. This is a linear transformation of a normal variable, so it's normal.\n",
    "\n",
    "By the properties of expectation,\n",
    "\n",
    "$$\n",
    "E[n\\mu + \\sqrt{n}Z] = n\\mu + \\sqrt{n}E[Z] = n\\mu\n",
    "$$\n",
    "\n",
    "\n",
    "By the properties of variance,\n",
    "$$\n",
    "var[n\\mu + \\sqrt{n}Z] = n var[Z] = n\n",
    "$$\n",
    "\n",
    "So,\n",
    "\n",
    "$$\n",
    "n\\mu + \\sqrt{n}Z \\sim \\text{Normal}(n\\mu, n)\n",
    "$$\n",
    "\n",
    "So, $n\\mu + \\sqrt{n}Z$ is equal in distribution to $T$."
   ]
  },
  {
   "cell_type": "markdown",
   "metadata": {},
   "source": [
    "So,\n",
    "\n",
    "$$\n",
    "P(T \\le c) = P(n\\mu + \\sqrt{n}Z \\le c)\n",
    "$$\n",
    "\n",
    "$$\n",
    "P(T \\le c) = P(Z \\le {c - n\\mu \\over \\sqrt{n}})\n",
    "$$\n",
    "\n",
    "Let $\\Phi$ denote the cdf of the standard normal distribution. Let $\\Phi^{-1}$ be the corresponding inverse function. Then,\n",
    "\n",
    "$$\n",
    "P(T \\le c) = \\Phi({c - n\\mu \\over \\sqrt{n}})\n",
    "$$"
   ]
  },
  {
   "cell_type": "markdown",
   "metadata": {},
   "source": [
    "By the definition of $\\alpha$,\n",
    "\n",
    "$$\n",
    "\\alpha = \\sup_{H_0} P(T \\le c)\n",
    "$$\n",
    "\n",
    "So,\n",
    "\n",
    "$$\n",
    "\\alpha = \\sup_{\\mu \\ge 10} \\Phi({c - n\\mu \\over \\sqrt{n}})\n",
    "$$\n",
    "\n",
    "The derivative of $\\Phi$ is positive and $n$ is positive. So, this is maximized when $\\mu$ is small. In this case, that means $\\mu$ is at the lower bound, $\\mu = 10$. So,\n",
    "\n",
    "$$\n",
    "\\alpha = \\Phi({c - n10 \\over \\sqrt{n}})\n",
    "$$"
   ]
  },
  {
   "cell_type": "markdown",
   "metadata": {},
   "source": [
    "We are interested in the case where $\\alpha = 0.1$. So,\n",
    "\n",
    "$$\n",
    "\\Phi({c - n10 \\over \\sqrt{n}}) = 0.1\n",
    "$$\n",
    "\n",
    "$$\n",
    "{c - n10 \\over \\sqrt{n}} = \\Phi^{-1}(0.1)\n",
    "$$\n",
    "\n",
    "$$\n",
    "c = \\Phi^{-1}(0.1)\\sqrt{n} + 10n\n",
    "$$\n",
    "\n",
    "This can be solved numerically for the case where $n = 4$."
   ]
  },
  {
   "cell_type": "code",
   "execution_count": 3,
   "metadata": {},
   "outputs": [
    {
     "data": {
      "text/plain": [
       "np.float64(37.4368968689108)"
      ]
     },
     "execution_count": 3,
     "metadata": {},
     "output_type": "execute_result"
    }
   ],
   "source": [
    "c = stats.norm(0, 1).ppf(0.1)*(4**0.5) + 10*4\n",
    "c"
   ]
  },
  {
   "cell_type": "markdown",
   "metadata": {},
   "source": [
    "So, in this case,\n",
    "\n",
    "$$\n",
    "c = 37.4368968689108\n",
    "$$\n",
    "\n",
    "So, our test is,\n",
    "\n",
    "$$\n",
    "\\sum_{i = 1}^n X_i \\lt 37.4368968689108\n",
    "$$"
   ]
  },
  {
   "cell_type": "markdown",
   "metadata": {},
   "source": [
    "**b. Determine the power of this test when $μ = 9$.**"
   ]
  },
  {
   "cell_type": "markdown",
   "metadata": {},
   "source": [
    "We are interested in the probability of rejecting when $\\mu = 9$.\n",
    "\n",
    "Earlier, we determined that,\n",
    "\n",
    "$$\n",
    "P(T \\le c) = \\Phi({c - n\\mu \\over \\sqrt{n}})\n",
    "$$\n",
    "\n",
    "So,\n",
    "\n",
    "$$\n",
    "P(T \\le c | \\mu = 9) = \\Phi({c - 9n \\over \\sqrt{n}})\n",
    "$$\n",
    "\n",
    "This can be solved numerically for the case when $n = 4$."
   ]
  },
  {
   "cell_type": "code",
   "execution_count": 4,
   "metadata": {},
   "outputs": [
    {
     "data": {
      "text/plain": [
       "np.float64(0.7637595841058833)"
      ]
     },
     "execution_count": 4,
     "metadata": {},
     "output_type": "execute_result"
    }
   ],
   "source": [
    "stats.norm(0, 1).cdf((37.4368968689108 - 9*4)/(4**0.5))"
   ]
  },
  {
   "cell_type": "markdown",
   "metadata": {},
   "source": [
    "So, when $\\mu = 9$, we have a probability of 0.7637595841058833 of rejecting the null."
   ]
  },
  {
   "cell_type": "markdown",
   "metadata": {},
   "source": [
    "**c. Determine the probability of not rejecting H0 if $μ = 11$.**"
   ]
  },
  {
   "cell_type": "markdown",
   "metadata": {},
   "source": [
    "The probability of rejecting is given by,\n",
    "\n",
    "$$\n",
    "P(T \\le c | \\mu = 11) = \\Phi({c - 11(4) \\over \\sqrt{4}})\n",
    "$$\n",
    "\n",
    "So, the probability of not rejecting is,\n",
    "\n",
    "$$\n",
    "P(T \\gt c | \\mu = 11) = 1 - \\Phi({c - 44 \\over 2})\n",
    "$$\n",
    "\n",
    "This can be solved numerically."
   ]
  },
  {
   "cell_type": "code",
   "execution_count": 5,
   "metadata": {},
   "outputs": [
    {
     "data": {
      "text/plain": [
       "np.float64(0.9994838117703562)"
      ]
     },
     "execution_count": 5,
     "metadata": {},
     "output_type": "execute_result"
    }
   ],
   "source": [
    "1 - stats.norm(0, 1).cdf((37.4368968689108 - 44)/2)"
   ]
  },
  {
   "cell_type": "markdown",
   "metadata": {},
   "source": [
    "The probability of not rejecting the null when $\\mu = 11$ is 0.9994838117703562."
   ]
  },
  {
   "cell_type": "markdown",
   "metadata": {},
   "source": []
  }
 ],
 "metadata": {
  "kernelspec": {
   "display_name": "venv",
   "language": "python",
   "name": "python3"
  },
  "language_info": {
   "codemirror_mode": {
    "name": "ipython",
    "version": 3
   },
   "file_extension": ".py",
   "mimetype": "text/x-python",
   "name": "python",
   "nbconvert_exporter": "python",
   "pygments_lexer": "ipython3",
   "version": "3.12.5"
  }
 },
 "nbformat": 4,
 "nbformat_minor": 2
}
