{
 "cells": [
  {
   "cell_type": "markdown",
   "metadata": {},
   "source": [
    "# Chapter 7.1"
   ]
  },
  {
   "cell_type": "markdown",
   "metadata": {},
   "source": [
    "**4. In Example 7.1.6, identify the components of the statistical model as defined in Definition 7.1.1.**"
   ]
  },
  {
   "cell_type": "markdown",
   "metadata": {},
   "source": [
    "The random variables of interest here are the variables $X_i$, the height of the ith man in the population. We observe 36 of these variables, $X_1, X_2 \\dots X_{36}$. There is one unknown parameter, $\\mu$, the mean height of men in the population. We assume that the $X_i$ are independent conditional on $\\mu$, and that they follow a normal distribution with mean $\\theta$ and variance 9. So,\n",
    "\n",
    "$$\n",
    "X_i \\sim \\text{Normal}(\\mu, \\sigma = 3)\n",
    "$$\n",
    "\n",
    "No prior distribution is specified for $\\mu$."
   ]
  },
  {
   "cell_type": "markdown",
   "metadata": {},
   "source": [
    "**6. In Example 5.8.3 (page 328), identify the components of the statistical model as defined in Definition 7.1.1.**"
   ]
  },
  {
   "cell_type": "markdown",
   "metadata": {},
   "source": [
    "In this scenario, we are interested in modeling the process by which Mexican Americans make it onto the jury. We model the number of Mexican Americans on the jury as a random variable $X$, which is observed to be 100. The variable $X$ is modeled as a sample from a binomial distribution with 220 trials and probability of \"success\" $P$, where \"success\" is defined as the juror being Mexican American. $P$ is assumed to be distributed according to a beta distribution with parameters $\\alpha$ and $\\beta$. We are interested in the question of whether $P$ is different from the proportion of Mexican Americans in the general population, which is 0.791.\n",
    "\n",
    "$P$ is both a parameter of the binomial distribution and a latent random variable in the model. Because we put a distribution on $P$, this is a Bayesian model. The values $\\alpha$ and $\\beta$ are parameters of the beta distribution on $P$, but they are hyperparameters of the model considered as a whole, because we are not going to estimate them from the data.\n",
    "\n",
    "The prior joint distribution of the model is given by,\n",
    "\n",
    "$$\n",
    "X \\sim \\text{Binomial}(p = P, n = 220)\n",
    "$$\n",
    "\n",
    "$$\n",
    "P \\sim \\text{Beta}(\\alpha, \\beta)\n",
    "$$"
   ]
  },
  {
   "cell_type": "markdown",
   "metadata": {},
   "source": [
    "# Chapter 7.2"
   ]
  },
  {
   "cell_type": "markdown",
   "metadata": {},
   "source": [
    "**2. Suppose that the proportion $\\theta$ of defective items in a large manufactured lot is known to be either 0.1 or 0.2, and the prior p.f. of $\\theta$ is as follows:**\n",
    "\n",
    "$$\n",
    "\\xi(0.1) = 0.7\\\\\\xi(0.2) = 0.3\n",
    "$$\n",
    "\n",
    "**Suppose also that when eight items are selected at random from the lot, it is found that exactly two of them are defective. Determine the posterior p.f. of $\\theta$.**"
   ]
  },
  {
   "cell_type": "markdown",
   "metadata": {},
   "source": [
    "Let $O$ be the random variable representing the observed data. We can use a binomial likelihood here so,\n",
    "\n",
    "$$\n",
    "P(O | \\theta = p) = p^2 (1 - p)^6 {8 \\choose 2}\n",
    "$$\n",
    "\n",
    "We can drop the constant factor because the prior is normalized, and we will just renormalize manually at the end.\n",
    "\n",
    "$$\n",
    "P(O | \\theta = p) \\propto \\mathcal{L}(p) = p^2 (1 - p)^6\n",
    "$$\n",
    "\n",
    "Then, we get:\n",
    "\n",
    "$$P(\\theta = p | O) = {P(O | \\theta = p) P(\\theta = p) \\over P(O)} \\propto \\mathcal{L}(p) \\xi(p)$$\n",
    "\n",
    "| $p$ | $\\mathcal{L}(p) \\xi(p)$ |\n",
    "| - | - |\n",
    "| 0.1 | $(0.1^20.9^6)(0.7) = 0.003720087$ |\n",
    "| 0.2 | $(0.2^20.8^6)(0.3) = 0.003145728$ |\n",
    "\n",
    "$$\n",
    "P(\\theta = 0.1) = {0.003720087 \\over 0.003720087 + 0.003145728} \\approx 0.542\n",
    "$$\n",
    "$$\n",
    "P(\\theta = 0.2) = {0.003145728 \\over 0.003720087 + 0.003145728} \\approx 0.458\n",
    "$$\n",
    "\n",
    "$$\n",
    "P(\\theta) = \n",
    "\\begin{cases}\n",
    "    0.542 & \\text{ for } \\theta = 0.1 \\\\\n",
    "    0.458 & \\text{ for } \\theta = 0.2 \\\\\n",
    "    0 & \\text{ otherwise}\n",
    "\\end{cases}\n",
    "$$\n",
    "\n",
    "The data has a 25% failure rate, so the higher rate of $\\theta = 0.2$ is favored. This is partially counterbalanced by the prior, which favors $\\theta = 0.1$."
   ]
  },
  {
   "cell_type": "markdown",
   "metadata": {},
   "source": [
    "**5. Suppose that the prior distribution of some parameter $\\theta$ is a beta distribution for which the mean is 1/3 and the variance is 1/45. Determine the prior p.d.f. of $\\theta$.**"
   ]
  },
  {
   "cell_type": "markdown",
   "metadata": {},
   "source": [
    "Let $V$ denote the variance. Then, we have the following formulas for the beta distribution.\n",
    "\n",
    "$$\n",
    "\\mu = {\\alpha \\over \\alpha + \\beta}\n",
    "$$\n",
    "\n",
    "$$\n",
    "V = {\\alpha \\beta \\over (\\alpha + \\beta)^2(\\alpha + \\beta + 1)}\n",
    "$$\n",
    "\n",
    "Starting from the formula for $\\mu$, we get:\n",
    "\n",
    "$$\n",
    "\\mu = {\\alpha \\over \\alpha + \\beta}\n",
    "$$\n",
    "\n",
    "$$\n",
    "\\alpha + \\beta = {\\alpha \\over \\mu}\n",
    "$$\n",
    "\n",
    "$$\n",
    "\\beta = {\\alpha \\over \\mu} - \\alpha\n",
    "$$\n",
    "\n",
    "$$\n",
    "\\beta = ({1 \\over \\mu} - 1)\\alpha\n",
    "$$\n",
    "\n",
    "Substitute known value of $\\mu$.\n",
    "\n",
    "$$\n",
    "\\beta = 2\\alpha\n",
    "$$"
   ]
  },
  {
   "cell_type": "markdown",
   "metadata": {},
   "source": [
    "Substitute into the formula for variance:\n",
    "\n",
    "$$\n",
    "V = {\\alpha \\beta \\over (\\alpha + \\beta)^2(\\alpha + \\beta + 1)}\n",
    "$$\n",
    "\n",
    "$$\n",
    "V = {\\alpha (2\\alpha) \\over (\\alpha + (2\\alpha))^2(\\alpha + (2\\alpha) + 1)}\n",
    "$$\n",
    "\n",
    "$$\n",
    "V = {2\\alpha^2 \\over (3\\alpha)^2(3\\alpha + 1)}\n",
    "$$\n",
    "\n",
    "$$\n",
    "V = {2 \\over 9(3\\alpha + 1)}\n",
    "$$\n",
    "\n",
    "$$\n",
    "3\\alpha + 1 = {2 \\over 9V}\n",
    "$$\n",
    "\n",
    "$$\n",
    "3\\alpha = {2 \\over 9V} - 1\n",
    "$$\n",
    "\n",
    "$$\n",
    "\\alpha = {2 \\over 27V} - {1 \\over 3}\n",
    "$$\n",
    "\n",
    "$$\n",
    "\\alpha = {2 \\over 27(1/45)} - {1 \\over 3}\n",
    "$$\n",
    "\n",
    "$$\n",
    "\\alpha = {2 \\over (3/5)} - {1 \\over 3}\n",
    "$$\n",
    "\n",
    "$$\n",
    "\\alpha = {10 \\over 3} - {1 \\over 3}\n",
    "$$\n",
    "\n",
    "$$\n",
    "\\alpha = {9 \\over 3} = 3\n",
    "$$\n",
    "\n",
    "$$\n",
    "\\beta = 2\\alpha = 6\n",
    "$$"
   ]
  },
  {
   "cell_type": "markdown",
   "metadata": {},
   "source": [
    "So, the prior distribution of $\\theta$ is the beta distribution with parameters $\\alpha = 3$, $\\beta = 6$. The pdf of $\\theta$ is,\n",
    "\n",
    "$$\n",
    "P(\\theta) = {\\Gamma(9) \\over \\Gamma(3)\\Gamma(6)} \\theta^2 (1 - \\theta)^5 I(\\theta \\in [0, 1])\n",
    "$$"
   ]
  },
  {
   "cell_type": "markdown",
   "metadata": {},
   "source": []
  }
 ],
 "metadata": {
  "kernelspec": {
   "display_name": "venv",
   "language": "python",
   "name": "python3"
  },
  "language_info": {
   "codemirror_mode": {
    "name": "ipython",
    "version": 3
   },
   "file_extension": ".py",
   "mimetype": "text/x-python",
   "name": "python",
   "nbconvert_exporter": "python",
   "pygments_lexer": "ipython3",
   "version": "3.13.1"
  }
 },
 "nbformat": 4,
 "nbformat_minor": 2
}
