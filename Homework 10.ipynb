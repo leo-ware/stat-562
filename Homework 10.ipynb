{
 "cells": [
  {
   "cell_type": "markdown",
   "metadata": {},
   "source": [
    "Ch9.4 #1,12 Ch9.5 #2,4,5 Ch9.6 #2 Ch9.7 #2,7"
   ]
  },
  {
   "cell_type": "code",
   "execution_count": 1,
   "metadata": {},
   "outputs": [],
   "source": [
    "from scipy import stats\n",
    "from math import log, exp"
   ]
  },
  {
   "cell_type": "markdown",
   "metadata": {},
   "source": [
    "# Chapter 9.4"
   ]
  },
  {
   "cell_type": "markdown",
   "metadata": {},
   "source": [
    "**1. Suppose that $X_1, . . . , X_n$ form a random sample from the normal distribution with unknown mean $μ$ and known variance $1$, and it is desired to test the following hypotheses for a given number $μ_0$:**\n",
    "\n",
    "$$H_0: μ = μ_0$$\n",
    "$$H_1: μ  \\ne μ_0$$\n",
    "\n",
    "**Consider a test procedure $δ$ such that the hypothesis $H_0$ is rejected if either $\\overline{X}_n ≤ c_1$ or $\\overline{X}_n ≥ c_2$, and let $π(μ|δ)$ denote the power function of $δ$. Determine the values of the constants $c_1$ and $c_2$ such that $π(μ_0|δ)= 0.10$ and the function $π(μ|δ)$ is symmetric with respect to the point $μ = μ_0$.**"
   ]
  },
  {
   "cell_type": "markdown",
   "metadata": {},
   "source": [
    "The distribution of the sample mean of the normal is known,\n",
    "\n",
    "$$\n",
    "\\overline{X}_n \\sim \\text{Normal}(\\mu, 1/n)\n",
    "$$\n",
    "\n",
    "(Note that I will parametrize the normal with mean and variance.)\n",
    "\n",
    "Further, it is known that,\n",
    "\n",
    "$$\n",
    "{\\overline{X}_n - \\mu \\over \\sqrt{n}} \\sim \\text{Normal}(0, 1)\n",
    "$$\n",
    "\n",
    "Observe that,\n",
    "\n",
    "$$\n",
    "P(\\overline{X}_n \\lt c) = P\\left({\\overline{X}_n - \\mu \\over \\sqrt{n}} \\lt {c - \\mu \\over \\sqrt{n}}\\right)\n",
    "$$\n",
    "\n",
    "Let $\\Phi$ denote the CDF of the standard normal, and let $\\Phi^{-1}$ denote the corresponding inverse function. Then,\n",
    "\n",
    "$$\n",
    "P(\\overline{X}_n \\lt c) = \\Phi\\left({c - \\mu \\over \\sqrt{n}}\\right)\n",
    "$$\n",
    "\n",
    "So,\n",
    "\n",
    "$$\n",
    "P(c_1 \\lt \\overline{X}_n \\lt c_2) = \\Phi\\left({c_2 - \\mu \\over \\sqrt{n}}\\right) - \\Phi\\left({c_1 - \\mu \\over \\sqrt{n}}\\right)\n",
    "$$"
   ]
  },
  {
   "cell_type": "markdown",
   "metadata": {},
   "source": [
    "**12. Let $X$ have the exponential distribution with parameter $β$. Suppose that we wish to test the hypotheses**\n",
    "\n",
    "$$H_0: β= 1$$\n",
    "$$H_1: β \\ne 1$$\n",
    "\n",
    "**We shall use a test procedure that rejects H0 if either $X ≤ c_1$ or $X ≥ c_2$.**\n",
    "\n",
    "**a. Find the equation that must be satisfied by $c_1$ and $c_2$ in order for the test procedure to have level of significance $α_0$.**"
   ]
  },
  {
   "cell_type": "markdown",
   "metadata": {},
   "source": [
    "Note that,\n",
    "\n",
    "$$\n",
    "\\pi(\\beta | \\delta) = P(X \\lt c_1 | \\beta) + P(X \\gt c_2 | \\beta)\n",
    "$$\n",
    "\n",
    "So,\n",
    "\n",
    "$$\n",
    "\\pi(\\beta | \\delta) = P(X \\lt c_1 | \\beta) + (1 - P(X \\lt c_2 | \\beta))\n",
    "$$\n",
    "\n",
    "Let $\\Phi_\\beta$ be the CDF of the exponential distribution with parameter $\\beta$.\n",
    "\n",
    "$$\n",
    "\\pi(\\beta | \\delta) = \\Phi_\\beta(c_1) + (1 - \\Phi_\\beta(c_2))\n",
    "$$\n",
    "\n",
    "Alternately, under the assumption that both $c_1$ and $c_2$ are greater than or equal to zero,\n",
    "\n",
    "$$\n",
    "\\pi(\\beta | \\delta) = (1 - \\exp(-\\beta c_1)) + (1 - (1 - \\exp(-\\beta c_2)))\n",
    "$$\n",
    "\n",
    "$$\n",
    "\\pi(\\beta | \\delta) = 1 + \\exp(-\\beta c_2) - \\exp(-\\beta c_1)\n",
    "$$\n",
    "\n",
    "We have that\n",
    "\n",
    "$$\n",
    "\\alpha_0 = \\pi(\\beta_0 | \\delta)\n",
    "$$\n",
    "\n",
    "So,\n",
    "\n",
    "$$\n",
    "\\Phi_{\\beta_0}(c_1) + (1 - \\Phi_{\\beta_0}(c_2)) = \\alpha_0\n",
    "$$\n",
    "\n",
    "Alternately,\n",
    "\n",
    "$$\n",
    "1 + \\exp(-c_2) - \\exp(- c_1) = \\alpha_0\n",
    "$$"
   ]
  },
  {
   "cell_type": "markdown",
   "metadata": {},
   "source": [
    "**b. Find a pair of finite, nonzero values ($c_1$, $c_2$) such that the test procedure has level of significance $α_0 = 0.1$.**"
   ]
  },
  {
   "cell_type": "markdown",
   "metadata": {},
   "source": [
    "Consider the case where $c_1 = 1/10$.Then,\n",
    "\n",
    "$$\n",
    "1 + \\exp(-c_2) - \\exp(-1/10) = 0.1\n",
    "$$\n",
    "\n",
    "$$\n",
    "\\exp(-c_2) = 0.1 - 1 + \\exp(-1/10)\n",
    "$$\n",
    "\n",
    "$$\n",
    "c_2 = -\\ln(-0.9 + \\exp(-1/10))\n",
    "$$\n",
    "\n",
    "This can be evaluated numerically."
   ]
  },
  {
   "cell_type": "code",
   "execution_count": 2,
   "metadata": {},
   "outputs": [
    {
     "data": {
      "text/plain": [
       "5.331374164240684"
      ]
     },
     "execution_count": 2,
     "metadata": {},
     "output_type": "execute_result"
    }
   ],
   "source": [
    "c_2 = -log(-0.9 + exp(-1/10))\n",
    "c_2"
   ]
  },
  {
   "cell_type": "markdown",
   "metadata": {},
   "source": [
    "So, one set of values is,\n",
    "\n",
    "$$\n",
    "c_1 = 1/10\n",
    "$$\n",
    "\n",
    "$$\n",
    "c_2 = -\\ln(-0.9 + \\exp(-1/10)) \\approx 5.331374164240684\n",
    "$$"
   ]
  },
  {
   "cell_type": "markdown",
   "metadata": {},
   "source": [
    "# Chapter 9.5"
   ]
  },
  {
   "cell_type": "markdown",
   "metadata": {},
   "source": [
    "**2. Suppose that nine observations are selected at random from the normal distribution with unknown mean $\\mu$ and unknown variance $\\sigma^2$, and for these nine observations it is found that $\\bar X_n = 22$ and $\\sum_{i=1}^n (X_i - \\bar X_n)^2 = 72$**\n",
    "\n",
    "**a.  Carry out a test of the following hypotheses at the level of significance $0.05$:**\n",
    "$$\n",
    "H_0: \\mu \\le 20,\\quad\n",
    "H_1: \\mu > 20.\n",
    "$$"
   ]
  },
  {
   "cell_type": "markdown",
   "metadata": {},
   "source": [
    "Calculate the sample variance,\n",
    "\n",
    "$$\n",
    "\\sigma^{'2} = {1 \\over 9 - 1} \\sum_{i = 1}^9 (X_i - \\overline{X}_9)^2 = {72 \\over 8} = 9\n",
    "$$\n",
    "\n",
    "$$\n",
    "\\sigma' = \\sqrt{9} = 3\n",
    "$$\n",
    "\n",
    "Let,\n",
    "\n",
    "$$\n",
    "U = n^(1/2)(\\bar{X}_n - \\mu_0) / \\sigma'\n",
    "$$\n",
    "\n",
    "Then,\n",
    "\n",
    "$$\n",
    "U = 9^(1/2)(22 - 20) / 3 = 2\n",
    "$$\n",
    "\n",
    "Under the null, $U \\sim \\text{T}(8)$. The p-value is given by,\n",
    "\n",
    "$$\n",
    "p = P(U \\ge 2 | H_0)\n",
    "$$\n",
    "\n",
    "This can be computed numerically."
   ]
  },
  {
   "cell_type": "code",
   "execution_count": 3,
   "metadata": {},
   "outputs": [
    {
     "data": {
      "text/plain": [
       "np.float64(0.040258118978631297)"
      ]
     },
     "execution_count": 3,
     "metadata": {},
     "output_type": "execute_result"
    }
   ],
   "source": [
    "1 - stats.t(8).cdf(2)"
   ]
  },
  {
   "cell_type": "markdown",
   "metadata": {},
   "source": [
    "The p-value is 0.040258118978631297. Our significance threshold is 0.05, so we reject."
   ]
  },
  {
   "cell_type": "markdown",
   "metadata": {},
   "source": [
    "**b.  Carry out a test of the following hypotheses at the level of significance $0.05$ by using the two-sided $t$-test:**\n",
    "$$\n",
    "H_0: \\mu = 20,\\quad\n",
    "H_1: \\mu \\neq 20.\n",
    "$$\n"
   ]
  },
  {
   "cell_type": "markdown",
   "metadata": {},
   "source": [
    "The test statistic is the same, we just double the p-value for the symmetric two-sided test.\n",
    "\n",
    "$$\n",
    "p = 2(0.040258118978631297) = 0.08051623795726259\n",
    "$$\n",
    "\n",
    "Our significance threshold is 0.05, so we not reject.\n"
   ]
  },
  {
   "cell_type": "markdown",
   "metadata": {},
   "source": [
    "**4. Suppose that a random sample of eight observations $X_1, . . . , X_8$ is taken from the normal distribution with unknown mean $μ$ and unknown variance $σ^2$, and it is desired to test the following hypotheses:**\n",
    "\n",
    "$$H_0: \\mu = 0$$\n",
    "$$H_1: \\mu \\ne 0$$\n",
    "\n",
    "**Suppose also that the sample data are such that $\\sum_{i = 1}^8 X_i = -11.2$ and $\\sum_{i = 1}^8 X_i^2 = 43.7$. If a symmetric t test is performed at the level of significance $0.10$ so that each tail of the critical region has probability $0.05$, should the hypothesis $H_0$ be rejected or not?**"
   ]
  },
  {
   "cell_type": "markdown",
   "metadata": {},
   "source": [
    "Use,\n",
    "\n",
    "$$\n",
    "\\sum_{i = 1}^8 (X_i - \\overline{X}_8)^2\n",
    "= \\sum_{i = 1}^8 X_i^2\n",
    "- \\frac{1}{8}\\Bigl(\\sum_{i = 1}^8 X_i\\Bigr)^2\n",
    "$$\n",
    "\n",
    "We get,\n",
    "\n",
    "$$\n",
    "\\sum_{i = 1}^8 (X_i - \\overline{X}_8)^2\n",
    "= 43.7\n",
    "- \\frac1{8}(-11.2)^2\n",
    "= 28.02\n",
    "$$\n",
    "\n",
    "Find the sample standard deviation,\n",
    "\n",
    "$$\n",
    "\\sigma'\n",
    "= \\sqrt{\\frac{1}{n-1}\\sum_{i = 1}^8 (X_i - \\overline{X}_8)^2}\n",
    "= \\sqrt{\\frac{1}{7}\\times 28.02}\n",
    "\\approx 2.0015\n",
    "$$\n",
    "\n",
    "So, the test statistic is given by,\n",
    "\n",
    "$$\n",
    "U\n",
    "= \\frac{\\overline{X}_8 - \\mu_0}{\\sigma'/\\sqrt{8}}\n",
    "= \\frac{-1.4 - 0}{2.0015 / \\sqrt{8}}\n",
    "\\approx -1.9792\n",
    "$$\n",
    "\n",
    "This is less than zero, so the two‐sided p‐value is\n",
    "\n",
    "$$\n",
    "p = 2\\,P\\bigl(T_{7} < -1.9792\\bigr),\n",
    "$$\n",
    "\n",
    "which can be computed numerically.\n"
   ]
  },
  {
   "cell_type": "code",
   "execution_count": 4,
   "metadata": {},
   "outputs": [
    {
     "data": {
      "text/plain": [
       "np.float64(0.08828686163751139)"
      ]
     },
     "execution_count": 4,
     "metadata": {},
     "output_type": "execute_result"
    }
   ],
   "source": [
    "2*stats.t(df = 7).cdf(-1.9791922591230109)"
   ]
  },
  {
   "cell_type": "markdown",
   "metadata": {},
   "source": [
    "We got a p-value of 0.08828686163751139. Our threshold is 0.1, so we reject."
   ]
  },
  {
   "cell_type": "markdown",
   "metadata": {},
   "source": [
    "**5. Consider again the conditions of Exercise 4, and suppose again that a t test is to be performed at the level of significance 0.10. Suppose now, however, that the t test is not to be symmetric and the hypothesis $H_0$ is to be rejected if either $U ≤ c_1$ or $U ≥ c_2$, where $Pr(U ≤ c1)= 0.01$ and $Pr(U ≥ c2)= 0.09$. For the sample data specified in Exercise 4, should $H_0$ be rejected or not?**"
   ]
  },
  {
   "cell_type": "markdown",
   "metadata": {},
   "source": [
    "We have that,\n",
    "\n",
    "$$\n",
    "U \\sim \\text{T}(7)\n",
    "$$\n",
    "\n",
    "So if,\n",
    "\n",
    "$$\n",
    "P(U \\le c_1) = 0.01\n",
    "$$\n",
    "\n",
    "Then, if we let $\\Phi_7$ represent the cdf of the t-distribution with 7 degrees of freedom and $\\Phi_7^{-1}$,\n",
    "\n",
    "$$\n",
    "\\Phi_7(c_1) = 0.01\n",
    "$$\n",
    "\n",
    "$$\n",
    "c_1 = \\Phi_7^{-1}(0.01)\n",
    "$$\n",
    "\n",
    "This can be computed numerically."
   ]
  },
  {
   "cell_type": "code",
   "execution_count": 5,
   "metadata": {},
   "outputs": [
    {
     "data": {
      "text/plain": [
       "np.float64(-2.9979515668685286)"
      ]
     },
     "execution_count": 5,
     "metadata": {},
     "output_type": "execute_result"
    }
   ],
   "source": [
    "stats.t(7).ppf(0.01)"
   ]
  },
  {
   "cell_type": "markdown",
   "metadata": {},
   "source": [
    "So, our lower cut, $c_1$, is at -2.9979515668685286. The value of the test is -1.9791922591230109, which is above the cut. So, we do not reject."
   ]
  },
  {
   "cell_type": "markdown",
   "metadata": {},
   "source": [
    "# Chapter 9.6"
   ]
  },
  {
   "cell_type": "markdown",
   "metadata": {},
   "source": [
    "**2. Suppose that a certain drug $A$ was administered to eight patients selected at random, and after a fixed time period, the concentration of the drug in certain body cells of each patient was measured in appropriate units. Suppose that these concentrations for the eight patients were found to be as follows:**\n",
    "\n",
    "**1.23, 1.42, 1.41, 1.62, 1.55, 1.51, 1.60, and 1.76**\n",
    "\n",
    "**Suppose also that a second drug $B$ was administered to six different patients selected at random, and when the concentration of drug $B$ was measured in a similar way for these six patients, the results were as follows:**\n",
    "\n",
    "**1.76, 1.41, 1.87, 1.49, 1.67, and 1.81.**\n",
    "\n",
    "**Assuming that all the observations have a normal distribution with a common unknown variance, test the following hypotheses at the level of significance $0.10$: The null hypothesis is that the mean concentration of drug $A$ among all patients is at least as large as the mean concentration of drug $B$. The alternative hypothesis is that the mean concentration of drug $B$ is larger than that of drug $A$.**"
   ]
  },
  {
   "cell_type": "markdown",
   "metadata": {},
   "source": [
    "Observe,\n",
    "\n",
    "$$\n",
    "m = 8\n",
    "$$\n",
    "\n",
    "$$\n",
    "n = 6\n",
    "$$\n",
    "\n",
    "Calculate,\n",
    "\n",
    "$$\n",
    "\\overline{X}_n = {1.23 + 1.42 + 1.41+ 1.62+ 1.55+ 1.51+ 1.60+ 1.76 \\over 8} = 1.5125\n",
    "$$\n",
    "\n",
    "$$\n",
    "\\overline{Y}_n = {1.76+ 1.41+ 1.87+ 1.49+ 1.67 + 1.81 \\over 6} = 1.6683333333333332\n",
    "$$\n",
    "\n",
    "$$\n",
    "S_X^2 = {1 \\over 8} \\sum_{i = 1}^8 (X_i - \\overline{X}_n)^2 = 0.18075000000000008\n",
    "$$\n",
    "\n",
    "$$\n",
    "S_Y^2 = {1 \\over 6} \\sum_{i = 1}^6 (Y_i - \\overline{Y}_n)^2 = 0.16768333333333343\n",
    "$$\n",
    "\n",
    "We are interested in the question of whether $B$ is larger than $A$, so the test statistic is given by,\n",
    "\n",
    "$$\n",
    "U = {(m + n - 2)^{1/2}(\\overline{Y}_n - \\overline{X}_m) \\over \\left( {1 \\over m} + {1 \\over n} \\right)^{1/2}\\sqrt{S_X^2 + S_Y^2}}\n",
    "$$\n",
    "\n",
    "Calculate,\n",
    "\n",
    "$$\n",
    "U = 1.6933539163523619\n",
    "$$\n",
    "\n",
    "Under the null, $U \\sim \\text{T}(m + n - 2)$. We are interested in the one-sided test. So, the p-value is given by,\n",
    "\n",
    "$$\n",
    "p = P(U \\ge 1.6933539163523619 | H_0)\n",
    "$$\n",
    "\n",
    "This can be computed numerically."
   ]
  },
  {
   "cell_type": "code",
   "execution_count": 6,
   "metadata": {},
   "outputs": [
    {
     "data": {
      "text/plain": [
       "np.float64(0.05808179675220204)"
      ]
     },
     "execution_count": 6,
     "metadata": {},
     "output_type": "execute_result"
    }
   ],
   "source": [
    "1 - stats.t(8 + 6 - 2).cdf(1.6933539163523619)"
   ]
  },
  {
   "cell_type": "markdown",
   "metadata": {},
   "source": [
    "The p-value is 0.05808179675220204. Our significance threshold is 0.1, so we reject."
   ]
  },
  {
   "cell_type": "markdown",
   "metadata": {},
   "source": [
    "# Chapter 9.7"
   ]
  },
  {
   "cell_type": "markdown",
   "metadata": {},
   "source": [
    "**2. Suppose that a random variable $X$ has the F distribution with three and eight degrees of freedom. Determine the value of $c$ such that $Pr(X > c)= 0.975$.**"
   ]
  },
  {
   "cell_type": "markdown",
   "metadata": {},
   "source": [
    "This can de determined numerically"
   ]
  },
  {
   "cell_type": "code",
   "execution_count": 7,
   "metadata": {},
   "outputs": [
    {
     "data": {
      "text/plain": [
       "np.float64(0.06877632746011884)"
      ]
     },
     "execution_count": 7,
     "metadata": {},
     "output_type": "execute_result"
    }
   ],
   "source": [
    "stats.f(3, 8).ppf(1 - 0.975)"
   ]
  },
  {
   "cell_type": "markdown",
   "metadata": {},
   "source": [
    "So,\n",
    "\n",
    "$$\n",
    "P(X \\gt 0.06877632746011884) \\approx 0.975\n",
    "$$"
   ]
  },
  {
   "cell_type": "markdown",
   "metadata": {},
   "source": [
    "**7. Consider two different normal distributions for which both the means $μ_1$ and $μ_2$ and the variances $σ_1^2$ and $\\sigma_2^2$ are unknown, and suppose that it is desired to test the following hypotheses:**\n",
    "\n",
    "$$\n",
    "H_0: \\sigma_1^2 \\le \\sigma_2^2\n",
    "$$\n",
    "\n",
    "$$\n",
    "H_1: \\sigma_1^2 \\gt \\sigma_2^2\n",
    "$$\n",
    "\n",
    "**Suppose further that a random sample consisting of 16 observations for the first normal distribution yields the values $\\sum_{i = 1}^{16} X_i = 84$ and $\\sum_{i = 1}^{16} X_i^2 = 563$, and an independent random sample consisting of 10 observations from the second normal distribution yields the values $\\sum_{i = 1}^{10} Y_i = 18$ and $\\sum_{i = 1}^{10} Y_i^2 = 72$.**\n",
    "\n",
    "**a. What are the MLE's of $\\sigma_1^2$ and $\\sigma_2^2$?**"
   ]
  },
  {
   "cell_type": "markdown",
   "metadata": {},
   "source": [
    "We can use the MLE estimator\n",
    "\n",
    "$$\n",
    "var(X) = E[X^2] - E[X]^2\n",
    "$$\n",
    "\n",
    "$$\n",
    "\\hat{\\sigma}_1^2 = \\left({1 \\over 16}\\sum_{i = 1}^{16} X_i^2\\right) - \\left({1 \\over 16}\\sum_{i = 1}^{16} X_i \\right)^2\n",
    "$$\n",
    "\n",
    "$$\n",
    "\\hat{\\sigma}_1^2 = \\left({563 \\over 16}\\right) - \\left({84 \\over 16}\\right)^2\n",
    "$$\n",
    "\n",
    "$$\n",
    "\\hat{\\sigma}_1^2 = 7.625\n",
    "$$\n",
    "\n",
    "$$\n",
    "\\hat{\\sigma}_2^2 = \\left({1 \\over 10}\\sum_{i = 1}^{10} X_i^2\\right) - \\left({1 \\over 10}\\sum_{i = 1}^{10} X_i \\right)^2\n",
    "$$\n",
    "\n",
    "$$\n",
    "\\hat{\\sigma}_2^2 = \\left({72 \\over 10}\\right) - \\left({18 \\over 10}\\right)^2\n",
    "$$\n",
    "\n",
    "$$\n",
    "\\hat{\\sigma}_2^2 = 3.96\n",
    "$$"
   ]
  },
  {
   "cell_type": "markdown",
   "metadata": {},
   "source": [
    "**b. If an F test is carried out at the level of significance 0.05, is the hypothesis $H_0$ rejected or not?**"
   ]
  },
  {
   "cell_type": "markdown",
   "metadata": {},
   "source": [
    "Find the sample variances,\n",
    "\n",
    "$$\n",
    "{S_X^2 \\over m - 1} = {m \\over m - 1}\\hat{\\sigma}_1^2 = {16 \\over 15}7.625 = 8.133333333333333\n",
    "$$\n",
    "\n",
    "$$\n",
    "{S_Y^2 \\over n - 1} = {n \\over n - 1}\\hat{\\sigma}_2^2 = {10 \\over 9}3.96 = 4.4\n",
    "$$\n",
    "\n",
    "So, the test statistic $V$ is given by,\n",
    "\n",
    "$$\n",
    "V = {8.133333333333333 \\over 4.4} = 1.8484848484848482\n",
    "$$\n",
    "\n",
    "Under the supremum of the null,\n",
    "\n",
    "$$\n",
    "V \\sim F(15, 9)\n",
    "$$\n",
    "\n",
    "The p-value is given by,\n",
    "\n",
    "$$\n",
    "P(V \\ge 1.8484848484848482) = 1 - P(V \\lt 1.8484848484848482)\n",
    "$$\n",
    "\n",
    "This can be computed numerically."
   ]
  },
  {
   "cell_type": "code",
   "execution_count": 8,
   "metadata": {},
   "outputs": [
    {
     "data": {
      "text/plain": [
       "np.float64(0.1769969707516471)"
      ]
     },
     "execution_count": 8,
     "metadata": {},
     "output_type": "execute_result"
    }
   ],
   "source": [
    "1 - stats.f(15, 9).cdf(1.8484848484848482)"
   ]
  },
  {
   "cell_type": "markdown",
   "metadata": {},
   "source": [
    "This is not below the rejection threshold of 0.05, so we do not reject."
   ]
  },
  {
   "cell_type": "markdown",
   "metadata": {},
   "source": []
  },
  {
   "cell_type": "markdown",
   "metadata": {},
   "source": []
  },
  {
   "cell_type": "markdown",
   "metadata": {},
   "source": []
  },
  {
   "cell_type": "markdown",
   "metadata": {},
   "source": []
  }
 ],
 "metadata": {
  "kernelspec": {
   "display_name": "venv",
   "language": "python",
   "name": "python3"
  },
  "language_info": {
   "codemirror_mode": {
    "name": "ipython",
    "version": 3
   },
   "file_extension": ".py",
   "mimetype": "text/x-python",
   "name": "python",
   "nbconvert_exporter": "python",
   "pygments_lexer": "ipython3",
   "version": "3.12.5"
  }
 },
 "nbformat": 4,
 "nbformat_minor": 2
}
